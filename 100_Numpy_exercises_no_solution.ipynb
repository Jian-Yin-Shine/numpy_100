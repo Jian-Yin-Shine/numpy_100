{
 "cells": [
  {
   "cell_type": "markdown",
   "metadata": {},
   "source": [
    "# 100 numpy exercises\n",
    "\n",
    "This is a collection of exercises that have been collected in the numpy mailing list, on stack overflow and in the numpy documentation. The goal of this collection is to offer a quick reference for both old and new users but also to provide a set of exercises for those who teach.\n",
    "\n",
    "\n",
    "If you find an error or think you've a better way to solve some of them, feel free to open an issue at <https://github.com/rougier/numpy-100>"
   ]
  },
  {
   "cell_type": "markdown",
   "metadata": {},
   "source": [
    "#### 1. Import the numpy package under the name `np` (★☆☆)"
   ]
  },
  {
   "cell_type": "code",
   "execution_count": 1,
   "metadata": {},
   "outputs": [],
   "source": [
    "# 倒入numpy as np\n",
    "import numpy as np"
   ]
  },
  {
   "cell_type": "markdown",
   "metadata": {},
   "source": [
    "#### 2. Print the numpy version and the configuration (★☆☆)"
   ]
  },
  {
   "cell_type": "code",
   "execution_count": 2,
   "metadata": {},
   "outputs": [
    {
     "name": "stdout",
     "output_type": "stream",
     "text": [
      "1.15.0\n",
      "<module 'numpy.__config__' from '/home/yinjian/anaconda3/lib/python3.6/site-packages/numpy/__config__.py'>\n"
     ]
    }
   ],
   "source": [
    "# 打印numpy版本和config\n",
    "print(np.__version__)\n",
    "print(np.__config__)"
   ]
  },
  {
   "cell_type": "markdown",
   "metadata": {},
   "source": [
    "#### 3. Create a null vector of size 10 (★☆☆)"
   ]
  },
  {
   "cell_type": "code",
   "execution_count": 3,
   "metadata": {},
   "outputs": [
    {
     "data": {
      "text/plain": [
       "array([0.00000000e+000, 6.91849302e-310, 6.91849302e-310, 6.91849302e-310,\n",
       "       6.32404027e-322, 3.95252517e-322, 0.00000000e+000, 6.91850170e-310,\n",
       "       6.91850170e-310, 6.91850170e-310])"
      ]
     },
     "execution_count": 3,
     "metadata": {},
     "output_type": "execute_result"
    }
   ],
   "source": [
    "# 创建一个向量大小为10的数组\n",
    "a = np.empty(10)\n",
    "a"
   ]
  },
  {
   "cell_type": "markdown",
   "metadata": {},
   "source": [
    "#### 4.  How to find the memory size of any array (★☆☆)"
   ]
  },
  {
   "cell_type": "code",
   "execution_count": 4,
   "metadata": {},
   "outputs": [
    {
     "data": {
      "text/plain": [
       "80"
      ]
     },
     "execution_count": 4,
     "metadata": {},
     "output_type": "execute_result"
    }
   ],
   "source": [
    "# 找到array的内存大小\n",
    "a = np.zeros(10)\n",
    "a.size*a.itemsize"
   ]
  },
  {
   "cell_type": "markdown",
   "metadata": {},
   "source": [
    "#### 5.  How to get the documentation of the numpy add function from the command line? (★☆☆)"
   ]
  },
  {
   "cell_type": "code",
   "execution_count": 5,
   "metadata": {},
   "outputs": [],
   "source": [
    "# np.add?"
   ]
  },
  {
   "cell_type": "markdown",
   "metadata": {},
   "source": [
    "#### 6.  Create a null vector of size 10 but the fifth value which is 1 (★☆☆)"
   ]
  },
  {
   "cell_type": "code",
   "execution_count": 6,
   "metadata": {},
   "outputs": [
    {
     "data": {
      "text/plain": [
       "array([1.13516632e-250, 1.13516632e-250, 1.13516632e-250, 1.13516632e-250,\n",
       "       1.00000000e+000, 1.13516632e-250, 1.13516632e-250, 1.13516632e-250,\n",
       "       1.13516632e-250, 1.13516632e-250])"
      ]
     },
     "execution_count": 6,
     "metadata": {},
     "output_type": "execute_result"
    }
   ],
   "source": [
    "# 创建一个长度为10的数组，第5个数组为1\n",
    "a = np.empty(10)\n",
    "a[4] = 1\n",
    "a"
   ]
  },
  {
   "cell_type": "markdown",
   "metadata": {},
   "source": [
    "#### 7.  Create a vector with values ranging from 10 to 49 (★☆☆)"
   ]
  },
  {
   "cell_type": "code",
   "execution_count": 7,
   "metadata": {},
   "outputs": [
    {
     "data": {
      "text/plain": [
       "array([10, 11, 12, 13, 14, 15, 16, 17, 18, 19, 20, 21, 22, 23, 24, 25, 26,\n",
       "       27, 28, 29, 30, 31, 32, 33, 34, 35, 36, 37, 38, 39, 40, 41, 42, 43,\n",
       "       44, 45, 46, 47, 48, 49])"
      ]
     },
     "execution_count": 7,
     "metadata": {},
     "output_type": "execute_result"
    }
   ],
   "source": [
    "# 创建一个数组从10到49\n",
    "a = np.arange(10,50)\n",
    "a"
   ]
  },
  {
   "cell_type": "markdown",
   "metadata": {},
   "source": [
    "#### 8.  Reverse a vector (first element becomes last) (★☆☆)"
   ]
  },
  {
   "cell_type": "code",
   "execution_count": 8,
   "metadata": {},
   "outputs": [
    {
     "data": {
      "text/plain": [
       "array([49, 48, 47, 46, 45, 44, 43, 42, 41, 40, 39, 38, 37, 36, 35, 34, 33,\n",
       "       32, 31, 30, 29, 28, 27, 26, 25, 24, 23, 22, 21, 20, 19, 18, 17, 16,\n",
       "       15, 14, 13, 12, 11, 10])"
      ]
     },
     "execution_count": 8,
     "metadata": {},
     "output_type": "execute_result"
    }
   ],
   "source": [
    "# 反转一个向量\n",
    "a = a[::-1]\n",
    "a"
   ]
  },
  {
   "cell_type": "markdown",
   "metadata": {},
   "source": [
    "#### 9.  Create a 3x3 matrix with values ranging from 0 to 8 (★☆☆)"
   ]
  },
  {
   "cell_type": "code",
   "execution_count": 9,
   "metadata": {},
   "outputs": [
    {
     "data": {
      "text/plain": [
       "array([[0, 1, 2],\n",
       "       [3, 4, 5],\n",
       "       [6, 7, 8]])"
      ]
     },
     "execution_count": 9,
     "metadata": {},
     "output_type": "execute_result"
    }
   ],
   "source": [
    "# 创建一个3*3的大小的数组0～8\n",
    "a = np.arange(9).reshape(3,3)\n",
    "a"
   ]
  },
  {
   "cell_type": "markdown",
   "metadata": {},
   "source": [
    "#### 10. Find indices of non-zero elements from \\[1,2,0,0,4,0\\] (★☆☆)"
   ]
  },
  {
   "cell_type": "code",
   "execution_count": 10,
   "metadata": {},
   "outputs": [
    {
     "data": {
      "text/plain": [
       "(array([0, 1, 4]),)"
      ]
     },
     "execution_count": 10,
     "metadata": {},
     "output_type": "execute_result"
    }
   ],
   "source": [
    "# 找到非0元素的索引\n",
    "a = np.array([1,2,0,0,4,0])\n",
    "np.nonzero(a)"
   ]
  },
  {
   "cell_type": "markdown",
   "metadata": {},
   "source": [
    "#### 11. Create a 3x3 identity matrix (★☆☆)"
   ]
  },
  {
   "cell_type": "code",
   "execution_count": 11,
   "metadata": {},
   "outputs": [
    {
     "data": {
      "text/plain": [
       "array([[1., 0., 0.],\n",
       "       [0., 1., 0.],\n",
       "       [0., 0., 1.]])"
      ]
     },
     "execution_count": 11,
     "metadata": {},
     "output_type": "execute_result"
    }
   ],
   "source": [
    "# 创建一个3*3的对角阵\n",
    "a = np.identity(3)\n",
    "a"
   ]
  },
  {
   "cell_type": "markdown",
   "metadata": {},
   "source": [
    "#### 12. Create a 3x3x3 array with random values (★☆☆)"
   ]
  },
  {
   "cell_type": "code",
   "execution_count": 12,
   "metadata": {},
   "outputs": [
    {
     "data": {
      "text/plain": [
       "array([[0.42636948, 0.82081255, 0.55134779],\n",
       "       [0.80752272, 0.14608029, 0.24856639],\n",
       "       [0.16950785, 0.01222346, 0.80010313]])"
      ]
     },
     "execution_count": 12,
     "metadata": {},
     "output_type": "execute_result"
    }
   ],
   "source": [
    "# 创建3*3*3的随机数组\n",
    "a = np.random.random((3,3))\n",
    "# a = np.random.rand(3,3)\n",
    "a"
   ]
  },
  {
   "cell_type": "markdown",
   "metadata": {},
   "source": [
    "#### 13. Create a 10x10 array with random values and find the minimum and maximum values (★☆☆)"
   ]
  },
  {
   "cell_type": "code",
   "execution_count": 13,
   "metadata": {},
   "outputs": [
    {
     "name": "stdout",
     "output_type": "stream",
     "text": [
      "[[0.43775621 0.44398849 0.10244562 0.18844243 0.1524023  0.79719387\n",
      "  0.48072398 0.98588412 0.4416954  0.68704327]\n",
      " [0.73652562 0.15639098 0.12200266 0.95506607 0.48173257 0.9366238\n",
      "  0.08547101 0.15989099 0.99028274 0.65518661]\n",
      " [0.72169226 0.72909259 0.40763271 0.59500573 0.95694498 0.23901926\n",
      "  0.64283246 0.35677554 0.26802848 0.4635398 ]\n",
      " [0.45391671 0.29457607 0.16574408 0.8342713  0.68321902 0.44647181\n",
      "  0.28111001 0.13857363 0.99014652 0.05979357]\n",
      " [0.4579076  0.67008387 0.38238359 0.98737369 0.3081576  0.35262755\n",
      "  0.13185377 0.73454284 0.12719324 0.74500307]\n",
      " [0.04610766 0.71620077 0.48964137 0.93148067 0.01809216 0.46694139\n",
      "  0.03117692 0.1422673  0.50229068 0.9796286 ]\n",
      " [0.30178428 0.15674841 0.26915045 0.34735685 0.65896637 0.95220134\n",
      "  0.29239683 0.70275379 0.24280565 0.707938  ]\n",
      " [0.99676888 0.69319505 0.60404721 0.53535381 0.56422085 0.70248113\n",
      "  0.86536204 0.49556324 0.58896075 0.44906192]\n",
      " [0.73052836 0.54106855 0.41837192 0.91850695 0.84813532 0.53637444\n",
      "  0.11737386 0.8928388  0.19899224 0.99029789]\n",
      " [0.59437931 0.91238197 0.87917393 0.94687718 0.38446744 0.66101763\n",
      "  0.16784778 0.18394095 0.31342536 0.41539174]]\n",
      "0.018092155363061635 0.9967688820791504\n"
     ]
    }
   ],
   "source": [
    "# 创建一个10*10的随机数组，找到最大的值，最小的值\n",
    "a = np.random.rand(10,10)\n",
    "print(a)\n",
    "print(np.min(a), np.max(a))"
   ]
  },
  {
   "cell_type": "markdown",
   "metadata": {},
   "source": [
    "#### 14. Create a random vector of size 30 and find the mean value (★☆☆)"
   ]
  },
  {
   "cell_type": "code",
   "execution_count": 14,
   "metadata": {},
   "outputs": [
    {
     "data": {
      "text/plain": [
       "0.48611439170371834"
      ]
     },
     "execution_count": 14,
     "metadata": {},
     "output_type": "execute_result"
    }
   ],
   "source": [
    "# 创建一个大小为30的随机数组，求均值\n",
    "a = np.random.rand(30)\n",
    "a.mean()"
   ]
  },
  {
   "cell_type": "markdown",
   "metadata": {},
   "source": [
    "#### 15. Create a 2d array with 1 on the border and 0 inside (★☆☆)"
   ]
  },
  {
   "cell_type": "code",
   "execution_count": 15,
   "metadata": {},
   "outputs": [
    {
     "data": {
      "text/plain": [
       "array([[1., 1., 1., 1., 1., 1., 1., 1., 1., 1.],\n",
       "       [1., 0., 0., 0., 0., 0., 0., 0., 0., 1.],\n",
       "       [1., 0., 0., 0., 0., 0., 0., 0., 0., 1.],\n",
       "       [1., 0., 0., 0., 0., 0., 0., 0., 0., 1.],\n",
       "       [1., 0., 0., 0., 0., 0., 0., 0., 0., 1.],\n",
       "       [1., 0., 0., 0., 0., 0., 0., 0., 0., 1.],\n",
       "       [1., 0., 0., 0., 0., 0., 0., 0., 0., 1.],\n",
       "       [1., 0., 0., 0., 0., 0., 0., 0., 0., 1.],\n",
       "       [1., 0., 0., 0., 0., 0., 0., 0., 0., 1.],\n",
       "       [1., 1., 1., 1., 1., 1., 1., 1., 1., 1.]])"
      ]
     },
     "execution_count": 15,
     "metadata": {},
     "output_type": "execute_result"
    }
   ],
   "source": [
    "# 创建一个2d数组，1是边界，里面是0\n",
    "a = np.zeros((10,10))\n",
    "a[[0,-1],:] = 1\n",
    "a[:, [0,-1]] = 1\n",
    "a"
   ]
  },
  {
   "cell_type": "markdown",
   "metadata": {},
   "source": [
    "#### 16. How to add a border (filled with 0's) around an existing array? (★☆☆)"
   ]
  },
  {
   "cell_type": "code",
   "execution_count": 16,
   "metadata": {},
   "outputs": [
    {
     "data": {
      "text/plain": [
       "array([[0., 0., 0., 0., 0., 0., 0.],\n",
       "       [0., 1., 1., 1., 1., 1., 0.],\n",
       "       [0., 1., 1., 1., 1., 1., 0.],\n",
       "       [0., 1., 1., 1., 1., 1., 0.],\n",
       "       [0., 1., 1., 1., 1., 1., 0.],\n",
       "       [0., 1., 1., 1., 1., 1., 0.],\n",
       "       [0., 0., 0., 0., 0., 0., 0.]])"
      ]
     },
     "execution_count": 16,
     "metadata": {},
     "output_type": "execute_result"
    }
   ],
   "source": [
    "# 给一个存在的数组添加一个边框fill 0\n",
    "a = np.ones((5,5))\n",
    "# np.pad?\n",
    "a = np.pad(a, pad_width=1, mode='constant')\n",
    "a"
   ]
  },
  {
   "cell_type": "markdown",
   "metadata": {},
   "source": [
    "#### 17. What is the result of the following expression? (★☆☆)"
   ]
  },
  {
   "cell_type": "markdown",
   "metadata": {},
   "source": [
    "```python\n",
    "0 * np.nan\n",
    "np.nan == np.nan\n",
    "np.inf > np.nan\n",
    "np.nan - np.nan\n",
    "np.nan in set([np.nan])\n",
    "0.3 == 3 * 0.1\n",
    "```"
   ]
  },
  {
   "cell_type": "code",
   "execution_count": 17,
   "metadata": {},
   "outputs": [
    {
     "name": "stdout",
     "output_type": "stream",
     "text": [
      "nan\n",
      "False\n",
      "False\n",
      "nan\n",
      "True\n",
      "False\n"
     ]
    }
   ],
   "source": [
    "print(0*np.nan)\n",
    "print(np.nan == np.nan)\n",
    "print(np.inf > np.nan)\n",
    "print(np.nan - np.nan)\n",
    "print(np.nan in set([np.nan]))\n",
    "print(0.3 == 3*0.1)"
   ]
  },
  {
   "cell_type": "markdown",
   "metadata": {},
   "source": [
    "#### 18. Create a 5x5 matrix with values 1,2,3,4 just below the diagonal (★☆☆)"
   ]
  },
  {
   "cell_type": "code",
   "execution_count": 18,
   "metadata": {},
   "outputs": [
    {
     "data": {
      "text/plain": [
       "array([[0., 0., 0., 0., 0.],\n",
       "       [1., 0., 0., 0., 0.],\n",
       "       [0., 2., 0., 0., 0.],\n",
       "       [0., 0., 3., 0., 0.],\n",
       "       [0., 0., 0., 4., 0.]])"
      ]
     },
     "execution_count": 18,
     "metadata": {},
     "output_type": "execute_result"
    }
   ],
   "source": [
    "# 创建5*5矩阵，1，2，3，4低于对角线\n",
    "a = np.zeros((5,5))\n",
    "a[[1,2,3,4],[0,1,2,3]] = 1,2,3,4\n",
    "a"
   ]
  },
  {
   "cell_type": "markdown",
   "metadata": {},
   "source": [
    "#### 19. Create a 8x8 matrix and fill it with a checkerboard pattern (★☆☆)"
   ]
  },
  {
   "cell_type": "code",
   "execution_count": 19,
   "metadata": {},
   "outputs": [
    {
     "data": {
      "text/plain": [
       "array([[0., 1., 0., 1., 0., 1., 0., 1.],\n",
       "       [1., 0., 1., 0., 1., 0., 1., 0.],\n",
       "       [0., 1., 0., 1., 0., 1., 0., 1.],\n",
       "       [1., 0., 1., 0., 1., 0., 1., 0.],\n",
       "       [0., 1., 0., 1., 0., 1., 0., 1.],\n",
       "       [1., 0., 1., 0., 1., 0., 1., 0.],\n",
       "       [0., 1., 0., 1., 0., 1., 0., 1.],\n",
       "       [1., 0., 1., 0., 1., 0., 1., 0.]])"
      ]
     },
     "execution_count": 19,
     "metadata": {},
     "output_type": "execute_result"
    }
   ],
   "source": [
    "# 创建一个8*8的矩阵 0，1间隔\n",
    "a = np.zeros((8,8))\n",
    "# a[::2,1::2] = 1\n",
    "# a[1::2, 0::2] = 1\n",
    "b = a[::2,1::2]\n",
    "b[:] = 1\n",
    "c = a[1::2, 0::2]\n",
    "c[:] = 1\n",
    "a"
   ]
  },
  {
   "cell_type": "markdown",
   "metadata": {},
   "source": [
    "#### 20. Consider a (6,7,8) shape array, what is the index (x,y,z) of the 100th element?"
   ]
  },
  {
   "cell_type": "code",
   "execution_count": 20,
   "metadata": {},
   "outputs": [
    {
     "data": {
      "text/plain": [
       "(1, 5, 3)"
      ]
     },
     "execution_count": 20,
     "metadata": {},
     "output_type": "execute_result"
    }
   ],
   "source": [
    "# 考虑一个6*7*8的数组，第100个元素的(x,y,z)索引是多少？\n",
    "# (1,5,3)\n",
    "np.unravel_index(99,(6,7,8))"
   ]
  },
  {
   "cell_type": "markdown",
   "metadata": {},
   "source": [
    "#### 21. Create a checkerboard 8x8 matrix using the tile function (★☆☆)"
   ]
  },
  {
   "cell_type": "code",
   "execution_count": 21,
   "metadata": {},
   "outputs": [
    {
     "data": {
      "text/plain": [
       "array([[0, 1, 0, 1, 0, 1, 0, 1],\n",
       "       [1, 0, 1, 0, 1, 0, 1, 0],\n",
       "       [0, 1, 0, 1, 0, 1, 0, 1],\n",
       "       [1, 0, 1, 0, 1, 0, 1, 0],\n",
       "       [0, 1, 0, 1, 0, 1, 0, 1],\n",
       "       [1, 0, 1, 0, 1, 0, 1, 0],\n",
       "       [0, 1, 0, 1, 0, 1, 0, 1],\n",
       "       [1, 0, 1, 0, 1, 0, 1, 0]])"
      ]
     },
     "execution_count": 21,
     "metadata": {},
     "output_type": "execute_result"
    }
   ],
   "source": [
    "# 用函数创建一个8*8的矩阵 0，1间隔\n",
    "a = np.tile(np.array([[0,1],[1,0]]), (4,4))\n",
    "a"
   ]
  },
  {
   "cell_type": "markdown",
   "metadata": {},
   "source": [
    "#### 22. Normalize a 5x5 random matrix (★☆☆)"
   ]
  },
  {
   "cell_type": "code",
   "execution_count": 22,
   "metadata": {},
   "outputs": [
    {
     "data": {
      "text/plain": [
       "array([[-1.78712513, -1.61395796, -1.70767147, -1.62463712, -1.65529929],\n",
       "       [-2.00682561, -2.13320907, -1.2825138 , -1.45834852, -1.59937234],\n",
       "       [-1.26450929, -1.82273196, -1.73440445, -1.78618914, -1.43220583],\n",
       "       [-2.0670171 , -1.49855744, -2.00788789, -1.72300344, -1.58216696],\n",
       "       [-1.85093445, -1.50740946, -1.83622768, -1.5496861 , -1.79713782]])"
      ]
     },
     "execution_count": 22,
     "metadata": {},
     "output_type": "execute_result"
    }
   ],
   "source": [
    "# 归一化一个5*5的矩阵\n",
    "a = np.random.random((5,5))\n",
    "a - a.mean() / a.std()"
   ]
  },
  {
   "cell_type": "markdown",
   "metadata": {},
   "source": [
    "#### 23. Create a custom dtype that describes a color as four unsigned bytes (RGBA) (★☆☆)"
   ]
  },
  {
   "cell_type": "code",
   "execution_count": 23,
   "metadata": {},
   "outputs": [
    {
     "data": {
      "text/plain": [
       "dtype([('r', '<u8'), ('g', '<u8'), ('b', '<u8'), ('a', '<u8')])"
      ]
     },
     "execution_count": 23,
     "metadata": {},
     "output_type": "execute_result"
    }
   ],
   "source": [
    "# 创建一个描述颜色的数据，4个无符号的数据\n",
    "color = np.dtype([(\"r\", np.uint, 1),\n",
    "                 (\"g\", np.uint, 1),\n",
    "                 (\"b\", np.uint, 1),\n",
    "                 (\"a\", np.uint, 1)])\n",
    "color"
   ]
  },
  {
   "cell_type": "markdown",
   "metadata": {},
   "source": [
    "#### 24. Multiply a 5x3 matrix by a 3x2 matrix (real matrix product) (★☆☆)"
   ]
  },
  {
   "cell_type": "code",
   "execution_count": 24,
   "metadata": {},
   "outputs": [
    {
     "data": {
      "text/plain": [
       "array([[ 10,  13],\n",
       "       [ 28,  40],\n",
       "       [ 46,  67],\n",
       "       [ 64,  94],\n",
       "       [ 82, 121]])"
      ]
     },
     "execution_count": 24,
     "metadata": {},
     "output_type": "execute_result"
    }
   ],
   "source": [
    "# 5*3 * 3*2 矩阵乘法\n",
    "a = np.arange(15).reshape((5,3))\n",
    "b = np.arange(6).reshape((3,2))\n",
    "np.dot(a, b) # python3.5 a@b"
   ]
  },
  {
   "cell_type": "markdown",
   "metadata": {},
   "source": [
    "#### 25. Given a 1D array, negate all elements which are between 3 and 8, in place. (★☆☆)"
   ]
  },
  {
   "cell_type": "code",
   "execution_count": 25,
   "metadata": {},
   "outputs": [
    {
     "data": {
      "text/plain": [
       "array([ 0,  1,  2, -3, -4, -5, -6, -7, -8,  9, 10, 11])"
      ]
     },
     "execution_count": 25,
     "metadata": {},
     "output_type": "execute_result"
    }
   ],
   "source": [
    "# 给定1D array，3-8的元素全部取负\n",
    "a = np.arange(12)\n",
    "a[(a >=3) & (a <=8)] *= -1\n",
    "a"
   ]
  },
  {
   "cell_type": "markdown",
   "metadata": {},
   "source": [
    "#### 26. What is the output of the following script? (★☆☆)"
   ]
  },
  {
   "cell_type": "markdown",
   "metadata": {},
   "source": [
    "```python\n",
    "# Author: Jake VanderPlas\n",
    "\n",
    "print(sum(range(5),-1))\n",
    "from numpy import *\n",
    "print(sum(range(5),-1))\n",
    "```"
   ]
  },
  {
   "cell_type": "code",
   "execution_count": 26,
   "metadata": {},
   "outputs": [
    {
     "name": "stdout",
     "output_type": "stream",
     "text": [
      "9\n",
      "10\n"
     ]
    }
   ],
   "source": [
    "print(sum(range(5),-1))\n",
    "from numpy import *\n",
    "print(sum(range(5),-1))"
   ]
  },
  {
   "cell_type": "markdown",
   "metadata": {},
   "source": [
    "#### 27. Consider an integer vector Z, which of these expressions are legal? (★☆☆)"
   ]
  },
  {
   "cell_type": "markdown",
   "metadata": {},
   "source": [
    "```python\n",
    "Z**Z\n",
    "2 << Z >> 2\n",
    "Z <- Z\n",
    "1j*Z\n",
    "Z/1/1\n",
    "Z<Z>Z\n",
    "```"
   ]
  },
  {
   "cell_type": "code",
   "execution_count": 27,
   "metadata": {},
   "outputs": [
    {
     "name": "stdout",
     "output_type": "stream",
     "text": [
      "[0 1 2 3 4]\n",
      "[  1   1   4  27 256]\n",
      "[0 1 2 4 8]\n",
      "[False False False False False]\n",
      "[0.+0.j 0.+1.j 0.+2.j 0.+3.j 0.+4.j]\n",
      "[0. 1. 2. 3. 4.]\n"
     ]
    }
   ],
   "source": [
    "# 哪些是合法的\n",
    "Z = np.arange(5)\n",
    "print(Z)\n",
    "print(Z**Z)\n",
    "print(2 << Z >> 2)\n",
    "print(Z <- Z)\n",
    "print(1j*Z)\n",
    "print(Z/1/1)\n",
    "# print(Z<Z>Z)"
   ]
  },
  {
   "cell_type": "markdown",
   "metadata": {},
   "source": [
    "#### 28. What are the result of the following expressions?"
   ]
  },
  {
   "cell_type": "markdown",
   "metadata": {},
   "source": [
    "```python\n",
    "np.array(0) / np.array(0)\n",
    "np.array(0) // np.array(0)\n",
    "np.array([np.nan]).astype(int).astype(float)\n",
    "```"
   ]
  },
  {
   "cell_type": "code",
   "execution_count": 28,
   "metadata": {},
   "outputs": [
    {
     "name": "stdout",
     "output_type": "stream",
     "text": [
      "nan\n",
      "0\n"
     ]
    },
    {
     "name": "stderr",
     "output_type": "stream",
     "text": [
      "/home/yinjian/anaconda3/lib/python3.6/site-packages/ipykernel_launcher.py:1: RuntimeWarning: invalid value encountered in true_divide\n",
      "  \"\"\"Entry point for launching an IPython kernel.\n",
      "/home/yinjian/anaconda3/lib/python3.6/site-packages/ipykernel_launcher.py:2: RuntimeWarning: divide by zero encountered in floor_divide\n",
      "  \n"
     ]
    },
    {
     "data": {
      "text/plain": [
       "array([-9.22337204e+18])"
      ]
     },
     "execution_count": 28,
     "metadata": {},
     "output_type": "execute_result"
    }
   ],
   "source": [
    "print(np.array(0) / np.array(0))\n",
    "print(np.array(0) // np.array(0))\n",
    "np.array([np.nan]).astype(int).astype(float)"
   ]
  },
  {
   "cell_type": "markdown",
   "metadata": {},
   "source": [
    "#### 29. How to round away from zero a float array ? (★☆☆)"
   ]
  },
  {
   "cell_type": "code",
   "execution_count": 29,
   "metadata": {},
   "outputs": [
    {
     "name": "stdout",
     "output_type": "stream",
     "text": [
      "[-6. -2.  3. 10. -3.  4.  7. -6. -1. -3.]\n"
     ]
    },
    {
     "data": {
      "text/plain": [
       "array([-5.35235101, -1.64736205,  2.19695521,  9.98480322, -2.55363104,\n",
       "        3.9155619 ,  6.23903544, -5.68756804, -0.44423147, -2.4825567 ])"
      ]
     },
     "execution_count": 29,
     "metadata": {},
     "output_type": "execute_result"
    }
   ],
   "source": [
    "# 如何从远离0的方向取整（负数强制转换是不对的）\n",
    "Z = np.random.uniform(-10,+10,10)\n",
    "print (np.copysign(np.ceil(np.abs(Z)), Z))\n",
    "Z"
   ]
  },
  {
   "cell_type": "markdown",
   "metadata": {},
   "source": [
    "#### 30. How to find common values between two arrays? (★☆☆)"
   ]
  },
  {
   "cell_type": "code",
   "execution_count": 30,
   "metadata": {},
   "outputs": [
    {
     "name": "stdout",
     "output_type": "stream",
     "text": [
      "[ 0  1  2  3  4  5  6  7  8  9 10 11] [ 1  2  3  4  5  6  7  8  9 10 11 12]\n"
     ]
    },
    {
     "data": {
      "text/plain": [
       "array([ 1,  2,  3,  4,  5,  6,  7,  8,  9, 10, 11])"
      ]
     },
     "execution_count": 30,
     "metadata": {},
     "output_type": "execute_result"
    }
   ],
   "source": [
    "# 怎样找到两个数组的公共部分\n",
    "a = np.arange(12)\n",
    "b = np.arange(1,13)\n",
    "print(a,b)\n",
    "np.intersect1d(a,b)\n",
    "\n",
    "# np.unique  唯一元素\n",
    "# np.intersect1d 交集\n",
    "# np.union1d 并集"
   ]
  },
  {
   "cell_type": "markdown",
   "metadata": {},
   "source": [
    "#### 31. How to ignore all numpy warnings (not recommended)? (★☆☆)"
   ]
  },
  {
   "cell_type": "code",
   "execution_count": 31,
   "metadata": {},
   "outputs": [
    {
     "name": "stdout",
     "output_type": "stream",
     "text": [
      "[inf]\n"
     ]
    }
   ],
   "source": [
    "# 忽略所有的numpy警告\n",
    "\n",
    "defaults = np.seterr(all=\"ignore\")\n",
    "Z = np.ones(1) / 0\n",
    "\n",
    "# Back to sanity\n",
    "_ = np.seterr(**defaults)\n",
    "\n",
    "with np.errstate(divide='ignore'):\n",
    "    Z = np.ones(1) / 0\n",
    "    print(Z)"
   ]
  },
  {
   "cell_type": "markdown",
   "metadata": {},
   "source": [
    "#### 32. Is the following expressions true? (★☆☆)"
   ]
  },
  {
   "cell_type": "markdown",
   "metadata": {},
   "source": [
    "```python\n",
    "np.sqrt(-1) == np.emath.sqrt(-1)\n",
    "```"
   ]
  },
  {
   "cell_type": "code",
   "execution_count": 32,
   "metadata": {},
   "outputs": [
    {
     "name": "stderr",
     "output_type": "stream",
     "text": [
      "/home/yinjian/anaconda3/lib/python3.6/site-packages/ipykernel_launcher.py:1: RuntimeWarning: invalid value encountered in sqrt\n",
      "  \"\"\"Entry point for launching an IPython kernel.\n"
     ]
    },
    {
     "data": {
      "text/plain": [
       "(1j, nan)"
      ]
     },
     "execution_count": 32,
     "metadata": {},
     "output_type": "execute_result"
    }
   ],
   "source": [
    "np.emath.sqrt(-1), np.sqrt(-1)"
   ]
  },
  {
   "cell_type": "markdown",
   "metadata": {},
   "source": [
    "#### 33. How to get the dates of yesterday, today and tomorrow? (★☆☆)"
   ]
  },
  {
   "cell_type": "code",
   "execution_count": 33,
   "metadata": {},
   "outputs": [
    {
     "data": {
      "text/plain": [
       "(numpy.datetime64('2019-07-28'),\n",
       " numpy.datetime64('2019-07-29'),\n",
       " numpy.datetime64('2019-07-30'))"
      ]
     },
     "execution_count": 33,
     "metadata": {},
     "output_type": "execute_result"
    }
   ],
   "source": [
    "# 获得昨天，今天，明天的时间\n",
    "yesterday = np.datetime64('today', 'D') - np.timedelta64(1, 'D')\n",
    "today     = np.datetime64('today', 'D')\n",
    "tomorrow  = np.datetime64('today', 'D') + np.timedelta64(1, 'D')\n",
    "yesterday, today, tomorrow"
   ]
  },
  {
   "cell_type": "markdown",
   "metadata": {},
   "source": [
    "#### 34. How to get all the dates corresponding to the month of July 2016? (★★☆)"
   ]
  },
  {
   "cell_type": "code",
   "execution_count": 34,
   "metadata": {},
   "outputs": [
    {
     "name": "stdout",
     "output_type": "stream",
     "text": [
      "['2016-07-01' '2016-07-02' '2016-07-03' '2016-07-04' '2016-07-05'\n",
      " '2016-07-06' '2016-07-07' '2016-07-08' '2016-07-09' '2016-07-10'\n",
      " '2016-07-11' '2016-07-12' '2016-07-13' '2016-07-14' '2016-07-15'\n",
      " '2016-07-16' '2016-07-17' '2016-07-18' '2016-07-19' '2016-07-20'\n",
      " '2016-07-21' '2016-07-22' '2016-07-23' '2016-07-24' '2016-07-25'\n",
      " '2016-07-26' '2016-07-27' '2016-07-28' '2016-07-29' '2016-07-30'\n",
      " '2016-07-31']\n"
     ]
    }
   ],
   "source": [
    "Z = np.arange('2016-07', '2016-08', dtype='datetime64[D]')\n",
    "print(Z)"
   ]
  },
  {
   "cell_type": "markdown",
   "metadata": {},
   "source": [
    "#### 35. How to compute ((A+B)\\*(-A/2)) in place (without copy)? (★★☆)"
   ]
  },
  {
   "cell_type": "code",
   "execution_count": 35,
   "metadata": {},
   "outputs": [],
   "source": [
    "# 怎样计算(a+b)*(-a/2) 对应元素操作，不copy\n",
    "a = np.array"
   ]
  },
  {
   "cell_type": "markdown",
   "metadata": {},
   "source": [
    "#### 36. Extract the integer part of a random array using 5 different methods (★★☆)"
   ]
  },
  {
   "cell_type": "code",
   "execution_count": 36,
   "metadata": {},
   "outputs": [
    {
     "name": "stdout",
     "output_type": "stream",
     "text": [
      "[2.33769646 9.01817592 9.8617122  6.89190873 8.3254633  7.75227903\n",
      " 2.85433529 4.24469079 4.02935536 2.86896978]\n",
      "[2. 9. 9. 6. 8. 7. 2. 4. 4. 2.]\n",
      "[2. 9. 9. 6. 8. 7. 2. 4. 4. 2.]\n",
      "[2. 9. 9. 6. 8. 7. 2. 4. 4. 2.]\n",
      "[2 9 9 6 8 7 2 4 4 2]\n",
      "[2. 9. 9. 6. 8. 7. 2. 4. 4. 2.]\n"
     ]
    }
   ],
   "source": [
    "# 用5种方法提取随机数组的整数部分\n",
    "a = np.random.uniform(0,10,10)\n",
    "print(a)\n",
    "print(np.floor(a))\n",
    "print(np.ceil(a)-1)\n",
    "print(a - a%1)\n",
    "print(a.astype(np.int))\n",
    "print(np.trunc(a))"
   ]
  },
  {
   "cell_type": "markdown",
   "metadata": {},
   "source": [
    "#### 37. Create a 5x5 matrix with row values ranging from 0 to 4 (★★☆)"
   ]
  },
  {
   "cell_type": "code",
   "execution_count": 37,
   "metadata": {},
   "outputs": [
    {
     "data": {
      "text/plain": [
       "array([[0, 4, 3, 2, 0],\n",
       "       [3, 3, 3, 1, 4],\n",
       "       [0, 4, 4, 1, 3],\n",
       "       [0, 4, 3, 0, 3],\n",
       "       [2, 0, 3, 1, 1]])"
      ]
     },
     "execution_count": 37,
     "metadata": {},
     "output_type": "execute_result"
    }
   ],
   "source": [
    "# 新建一个5*5的array， 数值0~4随机\n",
    "# a = np.random.randint()\n",
    "# np.random.randint?\n",
    "a = np.random.randint(0,5,size=(5,5))\n",
    "a"
   ]
  },
  {
   "cell_type": "markdown",
   "metadata": {},
   "source": [
    "#### 38. Consider a generator function that generates 10 integers and use it to build an array (★☆☆)"
   ]
  },
  {
   "cell_type": "code",
   "execution_count": 38,
   "metadata": {},
   "outputs": [
    {
     "data": {
      "text/plain": [
       "array([0., 1., 2., 3., 4., 5., 6., 7., 8., 9.])"
      ]
     },
     "execution_count": 38,
     "metadata": {},
     "output_type": "execute_result"
    }
   ],
   "source": [
    "# 考虑一个生成器函数，构建10个整数，用他来建立array\n",
    "def generate():\n",
    "    for x in range(10):\n",
    "        yield x\n",
    "    \n",
    "a = np.fromiter(generate(), dtype=float, count=-1)\n",
    "a"
   ]
  },
  {
   "cell_type": "markdown",
   "metadata": {},
   "source": [
    "#### 39. Create a vector of size 10 with values ranging from 0 to 1, both excluded (★★☆)"
   ]
  },
  {
   "cell_type": "code",
   "execution_count": 39,
   "metadata": {},
   "outputs": [
    {
     "data": {
      "text/plain": [
       "array([0.        , 0.11111111, 0.22222222, 0.33333333, 0.44444444,\n",
       "       0.55555556, 0.66666667, 0.77777778, 0.88888889, 1.        ])"
      ]
     },
     "execution_count": 39,
     "metadata": {},
     "output_type": "execute_result"
    }
   ],
   "source": [
    "# 建立一个从0->1的size=0的数组，两端都包括\n",
    "\n",
    "# np.linspace?\n",
    "a = np.linspace(0,1,10)\n",
    "a"
   ]
  },
  {
   "cell_type": "markdown",
   "metadata": {},
   "source": [
    "#### 40. Create a random vector of size 10 and sort it (★★☆)"
   ]
  },
  {
   "cell_type": "code",
   "execution_count": 40,
   "metadata": {},
   "outputs": [
    {
     "data": {
      "text/plain": [
       "array([0.01347355, 0.07140876, 0.23530283, 0.45296411, 0.48762793,\n",
       "       0.55965039, 0.75369734, 0.75669472, 0.87740955, 0.89244534])"
      ]
     },
     "execution_count": 40,
     "metadata": {},
     "output_type": "execute_result"
    }
   ],
   "source": [
    "# 建立一个随机数组，给他排序\n",
    "a = np.random.random(10)\n",
    "a.sort()\n",
    "a"
   ]
  },
  {
   "cell_type": "markdown",
   "metadata": {},
   "source": [
    "#### 41. How to sum a small array faster than np.sum? (★★☆)"
   ]
  },
  {
   "cell_type": "code",
   "execution_count": 41,
   "metadata": {},
   "outputs": [
    {
     "data": {
      "text/plain": [
       "6"
      ]
     },
     "execution_count": 41,
     "metadata": {},
     "output_type": "execute_result"
    }
   ],
   "source": [
    "# 比np.sum求和更快的方式\n",
    "a = np.arange(4)\n",
    "np.add.reduce(a)"
   ]
  },
  {
   "cell_type": "markdown",
   "metadata": {},
   "source": [
    "#### 42. Consider two random array A and B, check if they are equal (★★☆)"
   ]
  },
  {
   "cell_type": "code",
   "execution_count": 42,
   "metadata": {},
   "outputs": [
    {
     "data": {
      "text/plain": [
       "array([False, False, False, False, False, False, False, False, False,\n",
       "       False, False, False])"
      ]
     },
     "execution_count": 42,
     "metadata": {},
     "output_type": "execute_result"
    }
   ],
   "source": [
    "# 考虑两个随机数组a,b， 检查他们是否相等\n",
    "a = np.random.random(12)\n",
    "b = np.random.random(12)\n",
    "a == b"
   ]
  },
  {
   "cell_type": "markdown",
   "metadata": {},
   "source": [
    "#### 43. Make an array immutable (read-only) (★★☆)"
   ]
  },
  {
   "cell_type": "code",
   "execution_count": 43,
   "metadata": {},
   "outputs": [
    {
     "data": {
      "text/plain": [
       "  C_CONTIGUOUS : True\n",
       "  F_CONTIGUOUS : True\n",
       "  OWNDATA : True\n",
       "  WRITEABLE : False\n",
       "  ALIGNED : True\n",
       "  WRITEBACKIFCOPY : False\n",
       "  UPDATEIFCOPY : False"
      ]
     },
     "execution_count": 43,
     "metadata": {},
     "output_type": "execute_result"
    }
   ],
   "source": [
    "# 建立一个只读数组\n",
    "a = np.arange(10)\n",
    "a.flags.writeable = False\n",
    "a.flags"
   ]
  },
  {
   "cell_type": "markdown",
   "metadata": {},
   "source": [
    "#### 44. Consider a random 10x2 matrix representing cartesian coordinates, convert them to polar coordinates (★★☆)"
   ]
  },
  {
   "cell_type": "code",
   "execution_count": 44,
   "metadata": {},
   "outputs": [],
   "source": [
    "# 考虑一个随机10*2矩阵代表笛卡尔坐标，转为极坐标\n",
    "a = np.random.random((10,2))\n",
    "# 只能数学计算\n",
    "x, y = a[:,0], a[:,1]\n",
    "r = np.sqrt(x**2 + y**2)\n",
    "t = np.arctan2(y,x)"
   ]
  },
  {
   "cell_type": "markdown",
   "metadata": {},
   "source": [
    "#### 45. Create random vector of size 10 and replace the maximum value by 0 (★★☆)"
   ]
  },
  {
   "cell_type": "code",
   "execution_count": 45,
   "metadata": {},
   "outputs": [
    {
     "name": "stdout",
     "output_type": "stream",
     "text": [
      "[0.46566192 0.38505534 0.60901786 0.44993896 0.30076916 0.62488658\n",
      " 0.70434487 0.3612143  0.29911045 0.31688552]\n"
     ]
    },
    {
     "data": {
      "text/plain": [
       "array([0.46566192, 0.38505534, 0.60901786, 0.44993896, 0.30076916,\n",
       "       0.62488658, 0.        , 0.3612143 , 0.29911045, 0.31688552])"
      ]
     },
     "execution_count": 45,
     "metadata": {},
     "output_type": "execute_result"
    }
   ],
   "source": [
    "# 创建一个10大小的随机矩阵，最大值替换为0\n",
    "a = np.random.random(10)\n",
    "print(a)\n",
    "# a[a==a.max()] = 0\n",
    "a[a.argmax()] = 0\n",
    "a"
   ]
  },
  {
   "cell_type": "markdown",
   "metadata": {},
   "source": [
    "#### 46. Create a structured array with `x` and `y` coordinates covering the \\[0,1\\]x\\[0,1\\] area (★★☆)"
   ]
  },
  {
   "cell_type": "code",
   "execution_count": 46,
   "metadata": {},
   "outputs": [
    {
     "data": {
      "text/plain": [
       "(array([[0.  , 0.25, 0.5 , 0.75, 1.  ],\n",
       "        [0.  , 0.25, 0.5 , 0.75, 1.  ],\n",
       "        [0.  , 0.25, 0.5 , 0.75, 1.  ],\n",
       "        [0.  , 0.25, 0.5 , 0.75, 1.  ],\n",
       "        [0.  , 0.25, 0.5 , 0.75, 1.  ]]),\n",
       " array([[0.  , 0.  , 0.  , 0.  , 0.  ],\n",
       "        [0.25, 0.25, 0.25, 0.25, 0.25],\n",
       "        [0.5 , 0.5 , 0.5 , 0.5 , 0.5 ],\n",
       "        [0.75, 0.75, 0.75, 0.75, 0.75],\n",
       "        [1.  , 1.  , 1.  , 1.  , 1.  ]]))"
      ]
     },
     "execution_count": 46,
     "metadata": {},
     "output_type": "execute_result"
    }
   ],
   "source": [
    "# 创建一个结构化数组，其x和y坐标覆盖[0,1] x [0,1]区域\n",
    "\n",
    "# Z = np.zeros((5,5), [('x',float),('y',float)])\n",
    "# Z['x'], Z['y'] = np.meshgrid(np.linspace(0,1,5),\n",
    "#                              np.linspace(0,1,5))\n",
    "# print(Z)\n",
    "\n",
    "x, y = np.linspace(0,1,5), np.linspace(0,1,5)\n",
    "X, Y = np.meshgrid(x, y)\n",
    "X, Y\n",
    "# print(x)\n",
    "# print(y)"
   ]
  },
  {
   "cell_type": "markdown",
   "metadata": {},
   "source": [
    "####  47. Given two arrays, X and Y, construct the Cauchy matrix C (Cij =1/(xi - yj))"
   ]
  },
  {
   "cell_type": "code",
   "execution_count": 47,
   "metadata": {},
   "outputs": [
    {
     "name": "stdout",
     "output_type": "stream",
     "text": [
      "3638.1636371179666\n"
     ]
    }
   ],
   "source": [
    "# 给定两个数组，X和Y，构造Cauchy矩阵C（Cij = 1 /（xi-yj））\n",
    "X = np.arange(8)\n",
    "Y = X + 0.5\n",
    "C = 1.0 / np.subtract.outer(X, Y)\n",
    "print(np.linalg.det(C))\n",
    "\n",
    "# 广播\n",
    "# X = X.reshape((-1,1))\n",
    "# C = 1.0 / (X - Y) \n",
    "# print(np.linalg.det(C))"
   ]
  },
  {
   "cell_type": "markdown",
   "metadata": {},
   "source": [
    "#### 48. Print the minimum and maximum representable value for each numpy scalar type (★★☆)"
   ]
  },
  {
   "cell_type": "code",
   "execution_count": 48,
   "metadata": {},
   "outputs": [
    {
     "name": "stdout",
     "output_type": "stream",
     "text": [
      "-128\n",
      "127\n",
      "-2147483648\n",
      "2147483647\n",
      "-9223372036854775808\n",
      "9223372036854775807\n",
      "-3.4028235e+38\n",
      "3.4028235e+38\n",
      "1.1920929e-07\n",
      "-1.7976931348623157e+308\n",
      "1.7976931348623157e+308\n",
      "2.220446049250313e-16\n"
     ]
    }
   ],
   "source": [
    "# 打印每个numpy标量类型的最小和最大可表示值\n",
    "for dtype in [np.int8, np.int32, np.int64]:\n",
    "   print(np.iinfo(dtype).min)\n",
    "   print(np.iinfo(dtype).max)\n",
    "for dtype in [np.float32, np.float64]:\n",
    "   print(np.finfo(dtype).min)\n",
    "   print(np.finfo(dtype).max)\n",
    "   print(np.finfo(dtype).eps)"
   ]
  },
  {
   "cell_type": "markdown",
   "metadata": {},
   "source": [
    "#### 49. How to print all the values of an array? (★★☆)"
   ]
  },
  {
   "cell_type": "code",
   "execution_count": 49,
   "metadata": {},
   "outputs": [],
   "source": [
    "# 元素太多打印会省略，怎样打印array的所有值\n",
    "np.set_printoptions(threshold=np.nan)"
   ]
  },
  {
   "cell_type": "markdown",
   "metadata": {},
   "source": [
    "#### 50. How to find the closest value (to a given scalar) in a vector? (★★☆)"
   ]
  },
  {
   "cell_type": "code",
   "execution_count": 50,
   "metadata": {},
   "outputs": [
    {
     "data": {
      "text/plain": [
       "(60, 60.370115781711796)"
      ]
     },
     "execution_count": 50,
     "metadata": {},
     "output_type": "execute_result"
    }
   ],
   "source": [
    "# 如何在向量中找到最接近的值(给定标量)\n",
    "a = np.arange(0, 100)\n",
    "v = np.random.uniform(0,100) # 不包含右端点\n",
    "a[np.argmin(np.abs(a-v))], v"
   ]
  },
  {
   "cell_type": "markdown",
   "metadata": {},
   "source": [
    "#### 51. Create a structured array representing a position (x,y) and a color (r,g,b) (★★☆)"
   ]
  },
  {
   "cell_type": "code",
   "execution_count": 51,
   "metadata": {},
   "outputs": [],
   "source": [
    "# 创建表示位置和颜色的结构化数组\n",
    "postion = np.dtype([('x', '<i8'), ('y', '<i8')])\n",
    "color = np.dtype([('r', np.uint8), ('g', np.uint8), ('b', np.uint8)])"
   ]
  },
  {
   "cell_type": "markdown",
   "metadata": {},
   "source": [
    "#### 52. Consider a random vector with shape (100,2) representing coordinates, find point by point distances (★★☆)"
   ]
  },
  {
   "cell_type": "code",
   "execution_count": 52,
   "metadata": {},
   "outputs": [
    {
     "data": {
      "text/plain": [
       "array([[0.        , 0.31744757, 0.13020867, 0.59722896, 0.48430818,\n",
       "        0.63988919, 0.29710127, 0.30995702, 0.60671234, 0.40113376],\n",
       "       [0.31744757, 0.        , 0.43953586, 0.85024001, 0.18990622,\n",
       "        0.34544005, 0.31534959, 0.47024095, 0.43842007, 0.69372469],\n",
       "       [0.13020867, 0.43953586, 0.        , 0.56532076, 0.59307073,\n",
       "        0.76896604, 0.3331256 , 0.26689316, 0.73043107, 0.34242785],\n",
       "       [0.59722896, 0.85024001, 0.56532076, 0.        , 1.03936354,\n",
       "        1.06411247, 0.88653954, 0.82651512, 0.85387368, 0.23463841],\n",
       "       [0.48430818, 0.18990622, 0.59307073, 1.03936354, 0.        ,\n",
       "        0.31994439, 0.36279013, 0.54611657, 0.53458865, 0.87561978],\n",
       "       [0.63988919, 0.34544005, 0.76896604, 1.06411247, 0.31994439,\n",
       "        0.        , 0.64427265, 0.81230685, 0.30629226, 0.96197217],\n",
       "       [0.29710127, 0.31534959, 0.3331256 , 0.88653954, 0.36279013,\n",
       "        0.64427265, 0.        , 0.18520362, 0.7443936 , 0.67309386],\n",
       "       [0.30995702, 0.47024095, 0.26689316, 0.82651512, 0.54611657,\n",
       "        0.81230685, 0.18520362, 0.        , 0.87017397, 0.59628194],\n",
       "       [0.60671234, 0.43842007, 0.73043107, 0.85387368, 0.53458865,\n",
       "        0.30629226, 0.7443936 , 0.87017397, 0.        , 0.81168041],\n",
       "       [0.40113376, 0.69372469, 0.34242785, 0.23463841, 0.87561978,\n",
       "        0.96197217, 0.67309386, 0.59628194, 0.81168041, 0.        ]])"
      ]
     },
     "execution_count": 52,
     "metadata": {},
     "output_type": "execute_result"
    }
   ],
   "source": [
    "# 考虑一个随机向量，其形状（100,2）代表坐标，找到各点之间的距离(100,100)\n",
    "Z = np.random.random((10,2))\n",
    "# print(Z)\n",
    "X,Y = np.atleast_2d(Z[:,0], Z[:,1])\n",
    "# X, Y, X.shape\n",
    "D = np.sqrt( (X-X.T)**2 + (Y-Y.T)**2)\n",
    "D"
   ]
  },
  {
   "cell_type": "markdown",
   "metadata": {},
   "source": [
    "#### 53. How to convert a float (32 bits) array into an integer (32 bits) in place?"
   ]
  },
  {
   "cell_type": "code",
   "execution_count": 53,
   "metadata": {},
   "outputs": [
    {
     "data": {
      "text/plain": [
       "array([0, 1, 2, 3, 4, 5, 6, 7, 8, 9], dtype=int32)"
      ]
     },
     "execution_count": 53,
     "metadata": {},
     "output_type": "execute_result"
    }
   ],
   "source": [
    "# 如何将32位float转32位整数\n",
    "a = np.arange(10, dtype=np.float32)\n",
    "a = a.astype(np.int32, copy=False)\n",
    "a"
   ]
  },
  {
   "cell_type": "markdown",
   "metadata": {},
   "source": [
    "#### 54. How to read the following file? (★★☆)"
   ]
  },
  {
   "cell_type": "markdown",
   "metadata": {},
   "source": [
    "```\n",
    "1, 2, 3, 4, 5\n",
    "6,  ,  , 7, 8\n",
    " ,  , 9,10,11\n",
    "```"
   ]
  },
  {
   "cell_type": "code",
   "execution_count": 54,
   "metadata": {},
   "outputs": [
    {
     "data": {
      "text/plain": [
       "array([[ 1,  2,  3,  4,  5],\n",
       "       [ 6, -1, -1,  7,  8],\n",
       "       [-1, -1,  9, 10, 11]])"
      ]
     },
     "execution_count": 54,
     "metadata": {},
     "output_type": "execute_result"
    }
   ],
   "source": [
    "# 怎样读这样的file文件\n",
    "from io import StringIO\n",
    "\n",
    "# Fake file \n",
    "s = StringIO(\"\"\"1, 2, 3, 4, 5\\n\n",
    "                6,  ,  , 7, 8\\n\n",
    "                 ,  , 9,10,11\\n\"\"\")\n",
    "\n",
    "a = np.genfromtxt(s, delimiter=',', dtype=int)\n",
    "a"
   ]
  },
  {
   "cell_type": "markdown",
   "metadata": {},
   "source": [
    "#### 55. What is the equivalent of enumerate for numpy arrays? (★★☆)"
   ]
  },
  {
   "cell_type": "code",
   "execution_count": 55,
   "metadata": {},
   "outputs": [
    {
     "name": "stdout",
     "output_type": "stream",
     "text": [
      "(0, 0) 0\n",
      "(0, 1) 1\n",
      "(0, 2) 2\n",
      "(1, 0) 3\n",
      "(1, 1) 4\n",
      "(1, 2) 5\n",
      "(2, 0) 6\n",
      "(2, 1) 7\n",
      "(2, 2) 8\n",
      "(0, 0) 0\n",
      "(0, 1) 1\n",
      "(0, 2) 2\n",
      "(1, 0) 3\n",
      "(1, 1) 4\n",
      "(1, 2) 5\n",
      "(2, 0) 6\n",
      "(2, 1) 7\n",
      "(2, 2) 8\n"
     ]
    }
   ],
   "source": [
    "# numpy数组的枚举相当于什么？\n",
    "a = np.arange(9).reshape((3,3))\n",
    "for index, value in np.ndenumerate(a):\n",
    "    print(index, value)\n",
    "    \n",
    "for index in np.ndindex(a.shape):\n",
    "    print(index, a[index])"
   ]
  },
  {
   "cell_type": "markdown",
   "metadata": {},
   "source": [
    "#### 56. Generate a generic 2D Gaussian-like array (★★☆)"
   ]
  },
  {
   "cell_type": "code",
   "execution_count": 56,
   "metadata": {},
   "outputs": [
    {
     "data": {
      "text/plain": [
       "array([[0.36787944, 0.44822088, 0.51979489, 0.57375342, 0.60279818,\n",
       "        0.60279818, 0.57375342, 0.51979489, 0.44822088, 0.36787944],\n",
       "       [0.44822088, 0.54610814, 0.63331324, 0.69905581, 0.73444367,\n",
       "        0.73444367, 0.69905581, 0.63331324, 0.54610814, 0.44822088],\n",
       "       [0.51979489, 0.63331324, 0.73444367, 0.81068432, 0.85172308,\n",
       "        0.85172308, 0.81068432, 0.73444367, 0.63331324, 0.51979489],\n",
       "       [0.57375342, 0.69905581, 0.81068432, 0.89483932, 0.9401382 ,\n",
       "        0.9401382 , 0.89483932, 0.81068432, 0.69905581, 0.57375342],\n",
       "       [0.60279818, 0.73444367, 0.85172308, 0.9401382 , 0.98773022,\n",
       "        0.98773022, 0.9401382 , 0.85172308, 0.73444367, 0.60279818],\n",
       "       [0.60279818, 0.73444367, 0.85172308, 0.9401382 , 0.98773022,\n",
       "        0.98773022, 0.9401382 , 0.85172308, 0.73444367, 0.60279818],\n",
       "       [0.57375342, 0.69905581, 0.81068432, 0.89483932, 0.9401382 ,\n",
       "        0.9401382 , 0.89483932, 0.81068432, 0.69905581, 0.57375342],\n",
       "       [0.51979489, 0.63331324, 0.73444367, 0.81068432, 0.85172308,\n",
       "        0.85172308, 0.81068432, 0.73444367, 0.63331324, 0.51979489],\n",
       "       [0.44822088, 0.54610814, 0.63331324, 0.69905581, 0.73444367,\n",
       "        0.73444367, 0.69905581, 0.63331324, 0.54610814, 0.44822088],\n",
       "       [0.36787944, 0.44822088, 0.51979489, 0.57375342, 0.60279818,\n",
       "        0.60279818, 0.57375342, 0.51979489, 0.44822088, 0.36787944]])"
      ]
     },
     "execution_count": 56,
     "metadata": {},
     "output_type": "execute_result"
    }
   ],
   "source": [
    "# 生成通用的2D高斯类数组\n",
    "X, Y = np.meshgrid(np.linspace(-1,1,10), np.linspace(-1,1,10))\n",
    "D = np.sqrt(X*X+Y*Y)\n",
    "sigma, mu = 1.0, 0.0\n",
    "G = np.exp(-( (D-mu)**2 / ( 2.0 * sigma**2 ) ) )\n",
    "G"
   ]
  },
  {
   "cell_type": "markdown",
   "metadata": {},
   "source": [
    "#### 57. How to randomly place p elements in a 2D array? (★★☆)"
   ]
  },
  {
   "cell_type": "code",
   "execution_count": 57,
   "metadata": {},
   "outputs": [
    {
     "data": {
      "text/plain": [
       "array([[0., 0., 0., 0., 0., 0., 0., 0., 0., 0.],\n",
       "       [0., 0., 0., 0., 0., 0., 0., 0., 1., 0.],\n",
       "       [0., 0., 0., 0., 0., 0., 0., 0., 0., 0.],\n",
       "       [0., 0., 0., 0., 0., 0., 0., 0., 0., 0.],\n",
       "       [0., 0., 0., 0., 0., 0., 0., 0., 0., 0.],\n",
       "       [0., 0., 0., 0., 0., 0., 0., 0., 0., 0.],\n",
       "       [0., 0., 0., 0., 0., 0., 0., 1., 0., 0.],\n",
       "       [0., 0., 0., 0., 0., 0., 0., 0., 0., 0.],\n",
       "       [0., 0., 0., 0., 0., 0., 0., 0., 0., 0.],\n",
       "       [0., 0., 0., 0., 1., 0., 0., 0., 0., 0.]])"
      ]
     },
     "execution_count": 57,
     "metadata": {},
     "output_type": "execute_result"
    }
   ],
   "source": [
    "# 如何将p元素随机放置在2D数组中？\n",
    "# np.random.choice(a, size, replace) 在a中采样出size大小的数组, replace=False 抽完后不放回去\n",
    "# np.put(a, ind, v, mode='raise')\n",
    "# a.flat(ind) = v (flat返回一个迭代器)\n",
    "a = np.zeros((10,10))\n",
    "np.put(a, ind=np.random.choice(range(100), 3, replace=False), v=1)\n",
    "a"
   ]
  },
  {
   "cell_type": "markdown",
   "metadata": {},
   "source": [
    "#### 58. Subtract the mean of each row of a matrix (★★☆)"
   ]
  },
  {
   "cell_type": "code",
   "execution_count": 58,
   "metadata": {},
   "outputs": [
    {
     "name": "stdout",
     "output_type": "stream",
     "text": [
      "[[ 0  1  2  3]\n",
      " [ 4  5  6  7]\n",
      " [ 8  9 10 11]]\n",
      "[1.5 5.5 9.5]\n"
     ]
    },
    {
     "data": {
      "text/plain": [
       "array([[-1.5, -0.5,  0.5,  1.5],\n",
       "       [-1.5, -0.5,  0.5,  1.5],\n",
       "       [-1.5, -0.5,  0.5,  1.5]])"
      ]
     },
     "execution_count": 58,
     "metadata": {},
     "output_type": "execute_result"
    }
   ],
   "source": [
    "# 减去每一行的均值\n",
    "a = np.arange(12).reshape(3,4)\n",
    "print(a)\n",
    "print(a.mean(axis=-1))\n",
    "a - a.mean(axis=-1).reshape((-1,1))"
   ]
  },
  {
   "cell_type": "markdown",
   "metadata": {},
   "source": [
    "#### 59. How to sort an array by the nth column? (★★☆)"
   ]
  },
  {
   "cell_type": "code",
   "execution_count": 59,
   "metadata": {},
   "outputs": [
    {
     "name": "stdout",
     "output_type": "stream",
     "text": [
      "[[0 9 5]\n",
      " [5 7 3]\n",
      " [7 0 3]]\n",
      "[9 7 0]\n",
      "[2 1 0]\n"
     ]
    },
    {
     "data": {
      "text/plain": [
       "array([[7, 0, 3],\n",
       "       [5, 7, 3],\n",
       "       [0, 9, 5]])"
      ]
     },
     "execution_count": 59,
     "metadata": {},
     "output_type": "execute_result"
    }
   ],
   "source": [
    "# 如何按第n列对数组进行排序(按照第i列的大小，将数组按行排序)\n",
    "a = np.random.randint(0,10,(3,3))  # [low ,high)\n",
    "print(a)\n",
    "print(a[:,1])\n",
    "print(a[:,1].argsort())\n",
    "a[a[:,1].argsort()]"
   ]
  },
  {
   "cell_type": "markdown",
   "metadata": {},
   "source": [
    "#### 60. How to tell if a given 2D array has null columns? (★★☆)"
   ]
  },
  {
   "cell_type": "code",
   "execution_count": 60,
   "metadata": {},
   "outputs": [
    {
     "name": "stdout",
     "output_type": "stream",
     "text": [
      "[[0 2 0 0 0 1 1 2 1 0]\n",
      " [0 2 0 2 1 2 2 2 1 1]\n",
      " [1 0 2 2 2 0 0 1 2 1]]\n",
      "[False False False False False False False False False False]\n"
     ]
    }
   ],
   "source": [
    "# 如何判断给定的2D数组是否具有0列\n",
    "# np.any 有一个元素为True，即为True，(注负数，和NaN(不是一个数)， 正无穷，负无穷都是True，只有0和False为False)\n",
    "a = np.random.randint(0,3,(3,10))\n",
    "print(a)\n",
    "print(~a.any(axis=0))"
   ]
  },
  {
   "cell_type": "markdown",
   "metadata": {},
   "source": [
    "#### 61. Find the nearest value from a given value in an array (★★☆)"
   ]
  },
  {
   "cell_type": "code",
   "execution_count": 61,
   "metadata": {},
   "outputs": [
    {
     "name": "stdout",
     "output_type": "stream",
     "text": [
      "[0.61899673 0.26329217 0.52418361 0.04333855 0.99545738 0.62217804\n",
      " 0.91217535 0.54345842 0.77462395 0.2053565 ]\n"
     ]
    },
    {
     "data": {
      "text/plain": [
       "0.5241836080526483"
      ]
     },
     "execution_count": 61,
     "metadata": {},
     "output_type": "execute_result"
    }
   ],
   "source": [
    "# 从一个给定的数组找到最接近的数值\n",
    "a = np.random.uniform(0,1,10)\n",
    "print(a)\n",
    "z = 0.5\n",
    "a[np.abs(a-z).argmin()]"
   ]
  },
  {
   "cell_type": "markdown",
   "metadata": {},
   "source": [
    "#### 62. Considering two arrays with shape (1,3) and (3,1), how to compute their sum using an iterator? (★★☆)"
   ]
  },
  {
   "cell_type": "code",
   "execution_count": 62,
   "metadata": {},
   "outputs": [
    {
     "name": "stdout",
     "output_type": "stream",
     "text": [
      "[[0 1 2]\n",
      " [1 2 3]\n",
      " [2 3 4]]\n"
     ]
    }
   ],
   "source": [
    "# 考虑两个形状为（1,3）和（3,1）的数组，如何使用迭代器计算它们的总和？\n",
    "A = np.arange(3).reshape(3,1)\n",
    "B = np.arange(3).reshape(1,3)\n",
    "it = np.nditer([A,B,None])\n",
    "for x,y,z in it: z[...] = x + y\n",
    "print(it.operands[2])\n",
    "# print(A+B)"
   ]
  },
  {
   "cell_type": "markdown",
   "metadata": {},
   "source": [
    "#### 63. Create an array class that has a name attribute (★★☆)"
   ]
  },
  {
   "cell_type": "code",
   "execution_count": 63,
   "metadata": {},
   "outputs": [
    {
     "name": "stdout",
     "output_type": "stream",
     "text": [
      "range_10\n"
     ]
    }
   ],
   "source": [
    "# 创建一个数组类，有一个名称属性\n",
    "class NamedArray(np.ndarray):\n",
    "    def __new__(cls, array, name=\"no name\"):\n",
    "        obj = np.asarray(array).view(cls)\n",
    "        obj.name = name\n",
    "        return obj\n",
    "    def __array_finalize__(self, obj):\n",
    "        if obj is None: return\n",
    "        self.info = getattr(obj, 'name', \"no name\")\n",
    "\n",
    "Z = NamedArray(np.arange(10), \"range_10\")\n",
    "print (Z.name)"
   ]
  },
  {
   "cell_type": "markdown",
   "metadata": {},
   "source": [
    "#### 64. Consider a given vector, how to add 1 to each element indexed by a second vector (be careful with repeated indices)? (★★★)"
   ]
  },
  {
   "cell_type": "code",
   "execution_count": 64,
   "metadata": {},
   "outputs": [
    {
     "name": "stdout",
     "output_type": "stream",
     "text": [
      "[1. 1. 1. 1. 1. 1. 1. 1. 1. 1.]\n",
      "[5 5 8 4 0 3 0 7 1 6 0 3 9 6 9 5 5 5 7 3]\n",
      "[4. 2. 1. 4. 2. 6. 3. 3. 2. 3.]\n"
     ]
    }
   ],
   "source": [
    "# 考虑一个给定的向量，如何为每个由第二个向量索引的元素添加1（小心重复索引）？\n",
    "Z = np.ones(10)\n",
    "I = np.random.randint(0,len(Z),20)\n",
    "print(Z)\n",
    "print(I)\n",
    "Z += np.bincount(I, minlength=len(Z))\n",
    "print(Z)"
   ]
  },
  {
   "cell_type": "markdown",
   "metadata": {},
   "source": [
    "#### 65. How to accumulate elements of a vector (X) to an array (F) based on an index list (I)? (★★★)"
   ]
  },
  {
   "cell_type": "code",
   "execution_count": 65,
   "metadata": {},
   "outputs": [
    {
     "data": {
      "text/plain": [
       "array([0., 7., 0., 6., 5., 0., 0., 0., 0., 3.])"
      ]
     },
     "execution_count": 65,
     "metadata": {},
     "output_type": "execute_result"
    }
   ],
   "source": [
    "# 如何基于索引列表（I）将向量（X）的元素累积到数组（F）\n",
    "# np.bincount(i,x) ans[i[j]] += x[j]\n",
    "X = [1,2,3,4,5,6]\n",
    "I = [1,3,9,3,4,1]\n",
    "F = np.bincount(I,X)\n",
    "F"
   ]
  },
  {
   "cell_type": "markdown",
   "metadata": {},
   "source": [
    "#### 66. Considering a (w,h,3) image of (dtype=ubyte), compute the number of unique colors (★★★)"
   ]
  },
  {
   "cell_type": "code",
   "execution_count": 66,
   "metadata": {},
   "outputs": [
    {
     "name": "stdout",
     "output_type": "stream",
     "text": [
      "8 8\n"
     ]
    }
   ],
   "source": [
    "# 计算一张图有多少种颜色，每个像素点的颜色计算是 r*256*256 + g*256 + b\n",
    "w,h = 16,16\n",
    "I = np.random.randint(0,2,(h,w,3)).astype(np.ubyte) # 创造出一张随机图片\n",
    "#Note that we should compute 256*256 first. \n",
    "#Otherwise numpy will only promote F.dtype to 'uint16' and overfolw will occur\n",
    "F1 = I[...,0]*(256*256) + I[...,1]*256 +I[...,2] # I[:,:,0] * 256*256\n",
    "F2 = I[:,:,0]*(256*256) + I[:,:,1] * 256 + I[:,:,2]\n",
    "n = len(np.unique(F1))\n",
    "print(n, len(np.unique(F2)))"
   ]
  },
  {
   "cell_type": "markdown",
   "metadata": {},
   "source": [
    "#### 67. Considering a four dimensions array, how to get sum over the last two axis at once? (★★★)"
   ]
  },
  {
   "cell_type": "code",
   "execution_count": 67,
   "metadata": {},
   "outputs": [
    {
     "data": {
      "text/plain": [
       "array([[3, 2, 2, 3],\n",
       "       [1, 1, 2, 2],\n",
       "       [2, 2, 1, 2],\n",
       "       [0, 3, 1, 2]])"
      ]
     },
     "execution_count": 67,
     "metadata": {},
     "output_type": "execute_result"
    }
   ],
   "source": [
    "# 考虑四维数组，如何一次得到最后两个轴的总和\n",
    "# a.sum(axis=-1).sum(axis=-1)\n",
    "a = np.random.randint(0,2,(4,4,2,2))\n",
    "a.sum(axis=(-2,-1))"
   ]
  },
  {
   "cell_type": "markdown",
   "metadata": {},
   "source": [
    "#### 68. Considering a one-dimensional vector D, how to compute means of subsets of D using a vector S of same size describing subset  indices? (★★★)"
   ]
  },
  {
   "cell_type": "code",
   "execution_count": 68,
   "metadata": {},
   "outputs": [],
   "source": [
    "# 考虑一维向量D，如何使用描述子集索引的相同大小的向量S来计算D的子集的均值\n"
   ]
  },
  {
   "cell_type": "markdown",
   "metadata": {},
   "source": [
    "#### 69. How to get the diagonal of a dot product? (★★★)"
   ]
  },
  {
   "cell_type": "code",
   "execution_count": 69,
   "metadata": {},
   "outputs": [
    {
     "data": {
      "text/plain": [
       "array([1.47527005, 1.18226179, 0.58176158, 0.94465783, 1.11021482])"
      ]
     },
     "execution_count": 69,
     "metadata": {},
     "output_type": "execute_result"
    }
   ],
   "source": [
    "# 怎样获得矩阵相乘的对角线\n",
    "a = np.random.uniform(0,1,(5,5))\n",
    "b = np.random.uniform(0,1,(5,5))\n",
    "\n",
    "np.diag(np.dot(a,b))"
   ]
  },
  {
   "cell_type": "markdown",
   "metadata": {},
   "source": [
    "#### 70. Consider the vector \\[1, 2, 3, 4, 5\\], how to build a new vector with 3 consecutive zeros interleaved between each value? (★★★)"
   ]
  },
  {
   "cell_type": "code",
   "execution_count": 70,
   "metadata": {},
   "outputs": [
    {
     "data": {
      "text/plain": [
       "array([1., 0., 0., 0., 2., 0., 0., 0., 3., 0., 0., 0., 4., 0., 0., 0., 5.])"
      ]
     },
     "execution_count": 70,
     "metadata": {},
     "output_type": "execute_result"
    }
   ],
   "source": [
    "#考虑向量[1,2,3,4,5]，如何构建一个新的向量，在每个值之间插入3个连续的零？\n",
    "a = np.array([1,2,3,4,5])\n",
    "b = np.zeros(len(a) + (len(a)-1)*3)\n",
    "b[::4] = a\n",
    "b"
   ]
  },
  {
   "cell_type": "markdown",
   "metadata": {},
   "source": [
    "#### 71. Consider an array of dimension (5,5,3), how to mulitply it by an array with dimensions (5,5)? (★★★)"
   ]
  },
  {
   "cell_type": "code",
   "execution_count": 71,
   "metadata": {},
   "outputs": [
    {
     "name": "stdout",
     "output_type": "stream",
     "text": [
      "[[[2. 2. 2.]\n",
      "  [2. 2. 2.]\n",
      "  [2. 2. 2.]\n",
      "  [2. 2. 2.]\n",
      "  [2. 2. 2.]]\n",
      "\n",
      " [[2. 2. 2.]\n",
      "  [2. 2. 2.]\n",
      "  [2. 2. 2.]\n",
      "  [2. 2. 2.]\n",
      "  [2. 2. 2.]]\n",
      "\n",
      " [[2. 2. 2.]\n",
      "  [2. 2. 2.]\n",
      "  [2. 2. 2.]\n",
      "  [2. 2. 2.]\n",
      "  [2. 2. 2.]]\n",
      "\n",
      " [[2. 2. 2.]\n",
      "  [2. 2. 2.]\n",
      "  [2. 2. 2.]\n",
      "  [2. 2. 2.]\n",
      "  [2. 2. 2.]]\n",
      "\n",
      " [[2. 2. 2.]\n",
      "  [2. 2. 2.]\n",
      "  [2. 2. 2.]\n",
      "  [2. 2. 2.]\n",
      "  [2. 2. 2.]]]\n",
      "[[[2. 2. 2.]\n",
      "  [2. 2. 2.]\n",
      "  [2. 2. 2.]\n",
      "  [2. 2. 2.]\n",
      "  [2. 2. 2.]]\n",
      "\n",
      " [[2. 2. 2.]\n",
      "  [2. 2. 2.]\n",
      "  [2. 2. 2.]\n",
      "  [2. 2. 2.]\n",
      "  [2. 2. 2.]]\n",
      "\n",
      " [[2. 2. 2.]\n",
      "  [2. 2. 2.]\n",
      "  [2. 2. 2.]\n",
      "  [2. 2. 2.]\n",
      "  [2. 2. 2.]]\n",
      "\n",
      " [[2. 2. 2.]\n",
      "  [2. 2. 2.]\n",
      "  [2. 2. 2.]\n",
      "  [2. 2. 2.]\n",
      "  [2. 2. 2.]]\n",
      "\n",
      " [[2. 2. 2.]\n",
      "  [2. 2. 2.]\n",
      "  [2. 2. 2.]\n",
      "  [2. 2. 2.]\n",
      "  [2. 2. 2.]]]\n"
     ]
    }
   ],
   "source": [
    "# 考虑一个维度数组（5,5,3），如何将它乘以一个带维数的数组（5,5）\n",
    "a = np.ones((5,5,3))\n",
    "b = 2*np.ones((5,5))\n",
    "print(a*b[:,:, np.newaxis])\n",
    "\n",
    "print(a * b[:,:,None])"
   ]
  },
  {
   "cell_type": "markdown",
   "metadata": {},
   "source": [
    "#### 72. How to swap two rows of an array? (★★★)"
   ]
  },
  {
   "cell_type": "code",
   "execution_count": 72,
   "metadata": {},
   "outputs": [
    {
     "name": "stdout",
     "output_type": "stream",
     "text": [
      "[[ 0  1  2  3]\n",
      " [ 4  5  6  7]\n",
      " [ 8  9 10 11]]\n"
     ]
    },
    {
     "data": {
      "text/plain": [
       "array([[ 4,  5,  6,  7],\n",
       "       [ 0,  1,  2,  3],\n",
       "       [ 8,  9, 10, 11]])"
      ]
     },
     "execution_count": 72,
     "metadata": {},
     "output_type": "execute_result"
    }
   ],
   "source": [
    "# 如何交换数组的两行？\n",
    "a = np.arange(12).reshape((3,4))\n",
    "print(a)\n",
    "a[[0,1]] = a[[1,0]]\n",
    "a"
   ]
  },
  {
   "cell_type": "markdown",
   "metadata": {},
   "source": [
    "#### 73. Consider a set of 10 triplets describing 10 triangles (with shared vertices), find the set of unique line segments composing all the  triangles (★★★)"
   ]
  },
  {
   "cell_type": "code",
   "execution_count": 73,
   "metadata": {},
   "outputs": [
    {
     "name": "stdout",
     "output_type": "stream",
     "text": [
      "[( 1, 22) ( 1, 53) ( 3, 13) ( 3, 89) (11, 32) (11, 33) (11, 75) (11, 94)\n",
      " (13, 89) (21, 28) (21, 79) (22, 53) (28, 79) (32, 33) (39, 49) (39, 64)\n",
      " (40, 55) (40, 71) (49, 64) (52, 63) (52, 76) (55, 71) (63, 76) (67, 86)\n",
      " (67, 95) (75, 84) (75, 94) (75, 98) (84, 98) (86, 95)]\n"
     ]
    }
   ],
   "source": [
    "faces = np.random.randint(0,100,(10,3))\n",
    "F = np.roll(faces.repeat(2,axis=1),-1,axis=1)\n",
    "F = F.reshape(len(F)*3,2)\n",
    "F = np.sort(F,axis=1)\n",
    "G = F.view( dtype=[('p0',F.dtype),('p1',F.dtype)] )\n",
    "G = np.unique(G)\n",
    "print(G)"
   ]
  },
  {
   "cell_type": "markdown",
   "metadata": {},
   "source": [
    "#### 74. Given an array C that is a bincount, how to produce an array A such that np.bincount(A) == C? (★★★)"
   ]
  },
  {
   "cell_type": "code",
   "execution_count": 74,
   "metadata": {},
   "outputs": [
    {
     "name": "stdout",
     "output_type": "stream",
     "text": [
      "[1 1 2 3 4 4 6]\n"
     ]
    },
    {
     "data": {
      "text/plain": [
       "array([0, 2, 1, 1, 2, 0, 1])"
      ]
     },
     "execution_count": 74,
     "metadata": {},
     "output_type": "execute_result"
    }
   ],
   "source": [
    "# np.bincount(a) = c ，给定c 找到a\n",
    "c = np.bincount([1,1,2,3,4,4,6])\n",
    "a = np.repeat(np.arange(len(c)), c)\n",
    "print(a)\n",
    "np.bincount(a)"
   ]
  },
  {
   "cell_type": "markdown",
   "metadata": {},
   "source": [
    "#### 75. How to compute averages using a sliding window over an array? (★★★)"
   ]
  },
  {
   "cell_type": "code",
   "execution_count": 75,
   "metadata": {},
   "outputs": [
    {
     "name": "stdout",
     "output_type": "stream",
     "text": [
      "[ 1.  2.  3.  4.  5.  6.  7.  8.  9. 10. 11. 12. 13. 14. 15. 16. 17. 18.]\n"
     ]
    }
   ],
   "source": [
    "# 如何使用数组上的滑动窗口计算平均值\n",
    "def moving_average(a, n=3) :\n",
    "    ret = np.cumsum(a, dtype=float)\n",
    "    ret[n:] = ret[n:] - ret[:-n]\n",
    "    return ret[n - 1:] / n\n",
    "Z = np.arange(20)\n",
    "print(moving_average(Z, n=3))"
   ]
  },
  {
   "cell_type": "markdown",
   "metadata": {},
   "source": [
    "#### 76. Consider a one-dimensional array Z, build a two-dimensional array whose first row is (Z\\[0\\],Z\\[1\\],Z\\[2\\]) and each subsequent row is  shifted by 1 (last row should be (Z\\[-3\\],Z\\[-2\\],Z\\[-1\\]) (★★★)"
   ]
  },
  {
   "cell_type": "code",
   "execution_count": 76,
   "metadata": {},
   "outputs": [],
   "source": [
    "# 考虑一维数组Z，构建一个二维数组，其第一行为（Z [0]，Z [1]，Z [2]），每个后续行移1（最后一行应为（Z [-3]，Z[-2]，Z[-1]）\n",
    "from numpy.lib import stride_tricks"
   ]
  },
  {
   "cell_type": "markdown",
   "metadata": {},
   "source": [
    "#### 77. How to negate a boolean, or to change the sign of a float inplace? (★★★)"
   ]
  },
  {
   "cell_type": "code",
   "execution_count": 77,
   "metadata": {},
   "outputs": [
    {
     "name": "stdout",
     "output_type": "stream",
     "text": [
      "[0 0 0 1 0 1 0 0 0 1 1 1 1 1 1 1 1 1 0 1 1 0 0 0 0 1 0 1 1 0 0 0 1 1 1 0 0\n",
      " 0 1 0 1 1 1 0 0 1 1 0 0 0 1 1 0 0 0 0 1 0 0 0 0 0 1 1 1 1 1 1 0 1 0 0 1 0\n",
      " 1 0 0 1 0 0 0 1 0 1 1 1 1 0 0 0 1 0 1 0 0 0 1 0 1 1]\n",
      "[1 1 1 0 1 0 1 1 1 0 0 0 0 0 0 0 0 0 1 0 0 1 1 1 1 0 1 0 0 1 1 1 0 0 0 1 1\n",
      " 1 0 1 0 0 0 1 1 0 0 1 1 1 0 0 1 1 1 1 0 1 1 1 1 1 0 0 0 0 0 0 1 0 1 1 0 1\n",
      " 0 1 1 0 1 1 1 0 1 0 0 0 0 1 1 1 0 1 0 1 1 1 0 1 0 0]\n",
      "[ 0.16282199  0.85591167  0.81749276 -0.60051203  0.74659768 -0.72791657\n",
      " -0.91884893  0.59177796  0.56856662 -0.52231731  0.64612662 -0.7661667\n",
      "  0.81518546 -0.61882489  0.72381765  0.85092414  0.54774144  0.22094413\n",
      " -0.42756702 -0.38449542  0.96880178  0.31921137 -0.2147435  -0.76651439\n",
      "  0.11314251 -0.08114659  0.12595132 -0.43430712  0.06281291 -0.36346984\n",
      "  0.16083739  0.19211863 -0.28814076  0.56946943 -0.56805107 -0.91200786\n",
      " -0.8526279  -0.72875193 -0.38203084 -0.93242678  0.07433245 -0.26784799\n",
      " -0.10844954 -0.39487728  0.9289827  -0.0149122   0.82447825 -0.28874795\n",
      "  0.0819664  -0.79947983  0.06538695 -0.21708509 -0.09668638 -0.35802047\n",
      "  0.04077566 -0.99909979  0.67456895  0.89512489 -0.85031578  0.72796209\n",
      " -0.09628463  0.81357668 -0.90217151 -0.26191413  0.01419744 -0.7559135\n",
      "  0.33506297  0.23127392  0.05376103  0.34125026  0.7549804   0.72761235\n",
      " -0.93602466 -0.15155803  0.08524131  0.69873457 -0.34826596 -0.87941725\n",
      " -0.0909785   0.89977754  0.7772416  -0.89396655  0.23907377 -0.55423218\n",
      "  0.5334211   0.21504208 -0.80051284  0.8254351  -0.68398206 -0.28990524\n",
      "  0.51108185 -0.87142985  0.63995633 -0.1386938  -0.86716269 -0.35589635\n",
      " -0.3841092  -0.07842418  0.89827939  0.16591511]\n",
      "[-0.16282199 -0.85591167 -0.81749276  0.60051203 -0.74659768  0.72791657\n",
      "  0.91884893 -0.59177796 -0.56856662  0.52231731 -0.64612662  0.7661667\n",
      " -0.81518546  0.61882489 -0.72381765 -0.85092414 -0.54774144 -0.22094413\n",
      "  0.42756702  0.38449542 -0.96880178 -0.31921137  0.2147435   0.76651439\n",
      " -0.11314251  0.08114659 -0.12595132  0.43430712 -0.06281291  0.36346984\n",
      " -0.16083739 -0.19211863  0.28814076 -0.56946943  0.56805107  0.91200786\n",
      "  0.8526279   0.72875193  0.38203084  0.93242678 -0.07433245  0.26784799\n",
      "  0.10844954  0.39487728 -0.9289827   0.0149122  -0.82447825  0.28874795\n",
      " -0.0819664   0.79947983 -0.06538695  0.21708509  0.09668638  0.35802047\n",
      " -0.04077566  0.99909979 -0.67456895 -0.89512489  0.85031578 -0.72796209\n",
      "  0.09628463 -0.81357668  0.90217151  0.26191413 -0.01419744  0.7559135\n",
      " -0.33506297 -0.23127392 -0.05376103 -0.34125026 -0.7549804  -0.72761235\n",
      "  0.93602466  0.15155803 -0.08524131 -0.69873457  0.34826596  0.87941725\n",
      "  0.0909785  -0.89977754 -0.7772416   0.89396655 -0.23907377  0.55423218\n",
      " -0.5334211  -0.21504208  0.80051284 -0.8254351   0.68398206  0.28990524\n",
      " -0.51108185  0.87142985 -0.63995633  0.1386938   0.86716269  0.35589635\n",
      "  0.3841092   0.07842418 -0.89827939 -0.16591511]\n"
     ]
    }
   ],
   "source": [
    "# 如何否定布尔值，或改变浮点位置的符号？\n",
    "Z = np.random.randint(0,2,100)\n",
    "print(Z)\n",
    "np.logical_not(Z, out=Z)\n",
    "print(Z)\n",
    "\n",
    "Z = np.random.uniform(-1.0,1.0,100)\n",
    "print(Z)\n",
    "np.negative(Z, out=Z)\n",
    "print(Z)"
   ]
  },
  {
   "cell_type": "markdown",
   "metadata": {},
   "source": [
    "#### 78. Consider 2 sets of points P0,P1 describing lines (2d) and a point p, how to compute distance from p to each line i  (P0\\[i\\],P1\\[i\\])? (★★★)"
   ]
  },
  {
   "cell_type": "code",
   "execution_count": 78,
   "metadata": {},
   "outputs": [],
   "source": [
    "# 考虑2组点P0，P1描述线（2d）和点p，如何计算从p到每条线i的距离（P0 [i]，P1 [i]）"
   ]
  },
  {
   "cell_type": "markdown",
   "metadata": {},
   "source": [
    "#### 79. Consider 2 sets of points P0,P1 describing lines (2d) and a set of points P, how to compute distance from each point j (P\\[j\\]) to each line i (P0\\[i\\],P1\\[i\\])? (★★★)"
   ]
  },
  {
   "cell_type": "code",
   "execution_count": 79,
   "metadata": {},
   "outputs": [],
   "source": [
    "# 考虑2组点P0，P1描述线（2d）和一组点P，如何计算从每个点j（P [j]）到每条线i（P0 [i]，P1 [i]）的距离？"
   ]
  },
  {
   "cell_type": "markdown",
   "metadata": {},
   "source": [
    "#### 80. Consider an arbitrary array, write a function that extract a subpart with a fixed shape and centered on a given element (pad with a `fill` value when necessary) (★★★)"
   ]
  },
  {
   "cell_type": "code",
   "execution_count": null,
   "metadata": {},
   "outputs": [],
   "source": []
  },
  {
   "cell_type": "markdown",
   "metadata": {},
   "source": [
    "#### 81. Consider an array Z = \\[1,2,3,4,5,6,7,8,9,10,11,12,13,14\\], how to generate an array R = \\[\\[1,2,3,4\\], \\[2,3,4,5\\], \\[3,4,5,6\\], ..., \\[11,12,13,14\\]\\]? (★★★)"
   ]
  },
  {
   "cell_type": "code",
   "execution_count": 99,
   "metadata": {},
   "outputs": [
    {
     "name": "stdout",
     "output_type": "stream",
     "text": [
      "[[ 1  2  3  4]\n",
      " [ 2  3  4  5]\n",
      " [ 3  4  5  6]\n",
      " [ 4  5  6  7]\n",
      " [ 5  6  7  8]\n",
      " [ 6  7  8  9]\n",
      " [ 7  8  9 10]\n",
      " [ 8  9 10 11]\n",
      " [ 9 10 11 12]\n",
      " [10 11 12 13]\n",
      " [11 12 13 14]]\n",
      "[[100   2   3   4]\n",
      " [  2   3   4   5]\n",
      " [  3   4   5   6]\n",
      " [  4   5   6   7]\n",
      " [  5   6   7   8]\n",
      " [  6   7   8   9]\n",
      " [  7   8   9  10]\n",
      " [  8   9  10  11]\n",
      " [  9  10  11  12]\n",
      " [ 10  11  12  13]\n",
      " [ 11  12  13  14]]\n"
     ]
    }
   ],
   "source": [
    "# 考虑一个数组Z = [1,2,3,4,5,6,7,8,9,10,11,12,13,14]\n",
    "# 如何生成一个数组R = [[1,2,3， 4]，[2,3,4,5]，[3,4,5,6]，...，[11,12,13,14]]\n",
    "a = np.arange(1,15,dtype=np.uint32)\n",
    "R = np.lib.stride_tricks.as_strided(a,(11,4),(4,4))\n",
    "print(R)\n",
    "a[0] = 100\n",
    "print(R)\n",
    "np.lib.stride_tricks.as_strided?"
   ]
  },
  {
   "cell_type": "markdown",
   "metadata": {},
   "source": [
    "#### 82. Compute a matrix rank (★★★)"
   ]
  },
  {
   "cell_type": "code",
   "execution_count": 81,
   "metadata": {},
   "outputs": [],
   "source": [
    "# 计算一个矩阵的秩"
   ]
  },
  {
   "cell_type": "markdown",
   "metadata": {},
   "source": [
    "#### 83. How to find the most frequent value in an array?"
   ]
  },
  {
   "cell_type": "code",
   "execution_count": 82,
   "metadata": {},
   "outputs": [
    {
     "name": "stdout",
     "output_type": "stream",
     "text": [
      "1\n"
     ]
    }
   ],
   "source": [
    "# 如何找到最常出现的数字\n",
    "a = np.random.randint(0,10,50)\n",
    "print(np.bincount(a).argmax())"
   ]
  },
  {
   "cell_type": "markdown",
   "metadata": {},
   "source": [
    "#### 84. Extract all the contiguous 3x3 blocks from a random 10x10 matrix (★★★)"
   ]
  },
  {
   "cell_type": "code",
   "execution_count": 83,
   "metadata": {},
   "outputs": [
    {
     "data": {
      "text/plain": [
       "array([[[[1, 4, 4],\n",
       "         [3, 2, 3],\n",
       "         [0, 1, 0]],\n",
       "\n",
       "        [[4, 4, 2],\n",
       "         [2, 3, 2],\n",
       "         [1, 0, 3]],\n",
       "\n",
       "        [[4, 2, 1],\n",
       "         [3, 2, 3],\n",
       "         [0, 3, 2]],\n",
       "\n",
       "        [[2, 1, 0],\n",
       "         [2, 3, 0],\n",
       "         [3, 2, 0]],\n",
       "\n",
       "        [[1, 0, 1],\n",
       "         [3, 0, 2],\n",
       "         [2, 0, 1]],\n",
       "\n",
       "        [[0, 1, 0],\n",
       "         [0, 2, 4],\n",
       "         [0, 1, 0]],\n",
       "\n",
       "        [[1, 0, 0],\n",
       "         [2, 4, 2],\n",
       "         [1, 0, 2]],\n",
       "\n",
       "        [[0, 0, 2],\n",
       "         [4, 2, 4],\n",
       "         [0, 2, 1]]],\n",
       "\n",
       "\n",
       "       [[[3, 2, 3],\n",
       "         [0, 1, 0],\n",
       "         [0, 1, 4]],\n",
       "\n",
       "        [[2, 3, 2],\n",
       "         [1, 0, 3],\n",
       "         [1, 4, 0]],\n",
       "\n",
       "        [[3, 2, 3],\n",
       "         [0, 3, 2],\n",
       "         [4, 0, 4]],\n",
       "\n",
       "        [[2, 3, 0],\n",
       "         [3, 2, 0],\n",
       "         [0, 4, 4]],\n",
       "\n",
       "        [[3, 0, 2],\n",
       "         [2, 0, 1],\n",
       "         [4, 4, 3]],\n",
       "\n",
       "        [[0, 2, 4],\n",
       "         [0, 1, 0],\n",
       "         [4, 3, 3]],\n",
       "\n",
       "        [[2, 4, 2],\n",
       "         [1, 0, 2],\n",
       "         [3, 3, 4]],\n",
       "\n",
       "        [[4, 2, 4],\n",
       "         [0, 2, 1],\n",
       "         [3, 4, 0]]],\n",
       "\n",
       "\n",
       "       [[[0, 1, 0],\n",
       "         [0, 1, 4],\n",
       "         [1, 3, 2]],\n",
       "\n",
       "        [[1, 0, 3],\n",
       "         [1, 4, 0],\n",
       "         [3, 2, 2]],\n",
       "\n",
       "        [[0, 3, 2],\n",
       "         [4, 0, 4],\n",
       "         [2, 2, 2]],\n",
       "\n",
       "        [[3, 2, 0],\n",
       "         [0, 4, 4],\n",
       "         [2, 2, 3]],\n",
       "\n",
       "        [[2, 0, 1],\n",
       "         [4, 4, 3],\n",
       "         [2, 3, 4]],\n",
       "\n",
       "        [[0, 1, 0],\n",
       "         [4, 3, 3],\n",
       "         [3, 4, 2]],\n",
       "\n",
       "        [[1, 0, 2],\n",
       "         [3, 3, 4],\n",
       "         [4, 2, 2]],\n",
       "\n",
       "        [[0, 2, 1],\n",
       "         [3, 4, 0],\n",
       "         [2, 2, 3]]],\n",
       "\n",
       "\n",
       "       [[[0, 1, 4],\n",
       "         [1, 3, 2],\n",
       "         [4, 0, 3]],\n",
       "\n",
       "        [[1, 4, 0],\n",
       "         [3, 2, 2],\n",
       "         [0, 3, 4]],\n",
       "\n",
       "        [[4, 0, 4],\n",
       "         [2, 2, 2],\n",
       "         [3, 4, 0]],\n",
       "\n",
       "        [[0, 4, 4],\n",
       "         [2, 2, 3],\n",
       "         [4, 0, 3]],\n",
       "\n",
       "        [[4, 4, 3],\n",
       "         [2, 3, 4],\n",
       "         [0, 3, 0]],\n",
       "\n",
       "        [[4, 3, 3],\n",
       "         [3, 4, 2],\n",
       "         [3, 0, 4]],\n",
       "\n",
       "        [[3, 3, 4],\n",
       "         [4, 2, 2],\n",
       "         [0, 4, 2]],\n",
       "\n",
       "        [[3, 4, 0],\n",
       "         [2, 2, 3],\n",
       "         [4, 2, 0]]],\n",
       "\n",
       "\n",
       "       [[[1, 3, 2],\n",
       "         [4, 0, 3],\n",
       "         [1, 0, 2]],\n",
       "\n",
       "        [[3, 2, 2],\n",
       "         [0, 3, 4],\n",
       "         [0, 2, 0]],\n",
       "\n",
       "        [[2, 2, 2],\n",
       "         [3, 4, 0],\n",
       "         [2, 0, 3]],\n",
       "\n",
       "        [[2, 2, 3],\n",
       "         [4, 0, 3],\n",
       "         [0, 3, 3]],\n",
       "\n",
       "        [[2, 3, 4],\n",
       "         [0, 3, 0],\n",
       "         [3, 3, 2]],\n",
       "\n",
       "        [[3, 4, 2],\n",
       "         [3, 0, 4],\n",
       "         [3, 2, 4]],\n",
       "\n",
       "        [[4, 2, 2],\n",
       "         [0, 4, 2],\n",
       "         [2, 4, 2]],\n",
       "\n",
       "        [[2, 2, 3],\n",
       "         [4, 2, 0],\n",
       "         [4, 2, 3]]],\n",
       "\n",
       "\n",
       "       [[[4, 0, 3],\n",
       "         [1, 0, 2],\n",
       "         [0, 0, 3]],\n",
       "\n",
       "        [[0, 3, 4],\n",
       "         [0, 2, 0],\n",
       "         [0, 3, 2]],\n",
       "\n",
       "        [[3, 4, 0],\n",
       "         [2, 0, 3],\n",
       "         [3, 2, 2]],\n",
       "\n",
       "        [[4, 0, 3],\n",
       "         [0, 3, 3],\n",
       "         [2, 2, 4]],\n",
       "\n",
       "        [[0, 3, 0],\n",
       "         [3, 3, 2],\n",
       "         [2, 4, 2]],\n",
       "\n",
       "        [[3, 0, 4],\n",
       "         [3, 2, 4],\n",
       "         [4, 2, 0]],\n",
       "\n",
       "        [[0, 4, 2],\n",
       "         [2, 4, 2],\n",
       "         [2, 0, 3]],\n",
       "\n",
       "        [[4, 2, 0],\n",
       "         [4, 2, 3],\n",
       "         [0, 3, 3]]],\n",
       "\n",
       "\n",
       "       [[[1, 0, 2],\n",
       "         [0, 0, 3],\n",
       "         [0, 1, 3]],\n",
       "\n",
       "        [[0, 2, 0],\n",
       "         [0, 3, 2],\n",
       "         [1, 3, 4]],\n",
       "\n",
       "        [[2, 0, 3],\n",
       "         [3, 2, 2],\n",
       "         [3, 4, 4]],\n",
       "\n",
       "        [[0, 3, 3],\n",
       "         [2, 2, 4],\n",
       "         [4, 4, 1]],\n",
       "\n",
       "        [[3, 3, 2],\n",
       "         [2, 4, 2],\n",
       "         [4, 1, 4]],\n",
       "\n",
       "        [[3, 2, 4],\n",
       "         [4, 2, 0],\n",
       "         [1, 4, 1]],\n",
       "\n",
       "        [[2, 4, 2],\n",
       "         [2, 0, 3],\n",
       "         [4, 1, 3]],\n",
       "\n",
       "        [[4, 2, 3],\n",
       "         [0, 3, 3],\n",
       "         [1, 3, 0]]],\n",
       "\n",
       "\n",
       "       [[[0, 0, 3],\n",
       "         [0, 1, 3],\n",
       "         [4, 1, 4]],\n",
       "\n",
       "        [[0, 3, 2],\n",
       "         [1, 3, 4],\n",
       "         [1, 4, 3]],\n",
       "\n",
       "        [[3, 2, 2],\n",
       "         [3, 4, 4],\n",
       "         [4, 3, 1]],\n",
       "\n",
       "        [[2, 2, 4],\n",
       "         [4, 4, 1],\n",
       "         [3, 1, 2]],\n",
       "\n",
       "        [[2, 4, 2],\n",
       "         [4, 1, 4],\n",
       "         [1, 2, 1]],\n",
       "\n",
       "        [[4, 2, 0],\n",
       "         [1, 4, 1],\n",
       "         [2, 1, 0]],\n",
       "\n",
       "        [[2, 0, 3],\n",
       "         [4, 1, 3],\n",
       "         [1, 0, 3]],\n",
       "\n",
       "        [[0, 3, 3],\n",
       "         [1, 3, 0],\n",
       "         [0, 3, 4]]]])"
      ]
     },
     "execution_count": 83,
     "metadata": {},
     "output_type": "execute_result"
    }
   ],
   "source": [
    "# 从随机10x10矩阵中提取所有连续的3x3块\n",
    "Z = np.random.randint(0,5,(10,10))\n",
    "n = 3\n",
    "i = 1 + (Z.shape[0]-3)\n",
    "j = 1 + (Z.shape[1]-3)\n",
    "C = stride_tricks.as_strided(Z, shape=(i, j, n, n), strides=Z.strides + Z.strides)\n",
    "C"
   ]
  },
  {
   "cell_type": "markdown",
   "metadata": {},
   "source": [
    "#### 85. Create a 2D array subclass such that Z\\[i,j\\] == Z\\[j,i\\] (★★★)"
   ]
  },
  {
   "cell_type": "code",
   "execution_count": 84,
   "metadata": {},
   "outputs": [],
   "source": [
    "# 创建一个二维数组子类，使Z [i，j] == Z [j，i]\n"
   ]
  },
  {
   "cell_type": "markdown",
   "metadata": {},
   "source": [
    "#### 86. Consider a set of p matrices wich shape (n,n) and a set of p vectors with shape (n,1). How to compute the sum of of the p matrix products at once? (result has shape (n,1)) (★★★)"
   ]
  },
  {
   "cell_type": "code",
   "execution_count": 85,
   "metadata": {},
   "outputs": [
    {
     "data": {
      "text/plain": [
       "array([[200.],\n",
       "       [200.],\n",
       "       [200.],\n",
       "       [200.],\n",
       "       [200.],\n",
       "       [200.],\n",
       "       [200.],\n",
       "       [200.],\n",
       "       [200.],\n",
       "       [200.],\n",
       "       [200.],\n",
       "       [200.],\n",
       "       [200.],\n",
       "       [200.],\n",
       "       [200.],\n",
       "       [200.],\n",
       "       [200.],\n",
       "       [200.],\n",
       "       [200.],\n",
       "       [200.]])"
      ]
     },
     "execution_count": 85,
     "metadata": {},
     "output_type": "execute_result"
    }
   ],
   "source": [
    "# 考虑一组形状为（n，n）的p矩阵和一组具有形状（n，1）的p向量。 如何一次计算p矩阵乘积的总和？ （结果有形状（n，1））\n",
    "# (n, n) * (n, 1) + (n, n) * (n, 1) + ... \n",
    "# 可得到次乘法为矩阵乘法\n",
    "m = np.ones((10,20,20))\n",
    "v = np.ones((10,20,1))\n",
    "s = np.tensordot(m, v, axes=[[0,2], [0,1]])\n",
    "s"
   ]
  },
  {
   "cell_type": "markdown",
   "metadata": {},
   "source": [
    "#### 87. Consider a 16x16 array, how to get the block-sum (block size is 4x4)? (★★★)"
   ]
  },
  {
   "cell_type": "code",
   "execution_count": 86,
   "metadata": {},
   "outputs": [
    {
     "name": "stdout",
     "output_type": "stream",
     "text": [
      "[[16. 16. 16. 16.]\n",
      " [16. 16. 16. 16.]\n",
      " [16. 16. 16. 16.]\n",
      " [16. 16. 16. 16.]]\n"
     ]
    }
   ],
   "source": [
    "Z = np.ones((16,16))\n",
    "k = 4\n",
    "S = np.add.reduceat(np.add.reduceat(Z, np.arange(0, Z.shape[0], k), axis=0),\n",
    "                                       np.arange(0, Z.shape[1], k), axis=1)\n",
    "print(S)"
   ]
  },
  {
   "cell_type": "markdown",
   "metadata": {},
   "source": [
    "#### 88. How to implement the Game of Life using numpy arrays? (★★★)"
   ]
  },
  {
   "cell_type": "code",
   "execution_count": 87,
   "metadata": {},
   "outputs": [],
   "source": [
    "# 如何使用numpy数组实现生命游戏？"
   ]
  },
  {
   "cell_type": "markdown",
   "metadata": {},
   "source": [
    "#### 89. How to get the n largest values of an array (★★★)"
   ]
  },
  {
   "cell_type": "code",
   "execution_count": 88,
   "metadata": {},
   "outputs": [
    {
     "name": "stdout",
     "output_type": "stream",
     "text": [
      "[9995 9996 9997 9998 9999]\n"
     ]
    }
   ],
   "source": [
    "# 怎样得到第n大的值\n",
    "a = np.arange(10000)\n",
    "np.random.shuffle(a)\n",
    "print(a[np.argsort(a)[-5:]])"
   ]
  },
  {
   "cell_type": "markdown",
   "metadata": {},
   "source": [
    "#### 90. Given an arbitrary number of vectors, build the cartesian product (every combinations of every item) (★★★)"
   ]
  },
  {
   "cell_type": "code",
   "execution_count": 89,
   "metadata": {
    "scrolled": true
   },
   "outputs": [],
   "source": [
    "# 给定任意数量的向量，构建笛卡尔积（每个项的每个组合）"
   ]
  },
  {
   "cell_type": "markdown",
   "metadata": {},
   "source": [
    "#### 91. How to create a record array from a regular array? (★★★)"
   ]
  },
  {
   "cell_type": "code",
   "execution_count": 90,
   "metadata": {},
   "outputs": [
    {
     "name": "stdout",
     "output_type": "stream",
     "text": [
      "[(b'Hello', 2.5, 3) (b'World', 3.6, 2)]\n"
     ]
    }
   ],
   "source": [
    "# 如何从常规数组创建记录数组？\n",
    "Z = np.array([(\"Hello\", 2.5, 3),\n",
    "              (\"World\", 3.6, 2)])\n",
    "R = np.core.records.fromarrays(Z.T, \n",
    "                               names='col1, col2, col3',\n",
    "                               formats = 'S8, f8, i8')\n",
    "print(R)"
   ]
  },
  {
   "cell_type": "markdown",
   "metadata": {},
   "source": [
    "#### 92. Consider a large vector Z, compute Z to the power of 3 using 3 different methods (★★★)"
   ]
  },
  {
   "cell_type": "code",
   "execution_count": 91,
   "metadata": {
    "scrolled": true
   },
   "outputs": [
    {
     "name": "stdout",
     "output_type": "stream",
     "text": [
      "4.66 s ± 29.3 ms per loop (mean ± std. dev. of 7 runs, 1 loop each)\n",
      "82.8 ms ± 5.98 ms per loop (mean ± std. dev. of 7 runs, 10 loops each)\n",
      "304 ms ± 1.7 ms per loop (mean ± std. dev. of 7 runs, 1 loop each)\n"
     ]
    }
   ],
   "source": [
    "# 考虑一个大的向量Z，使用3种不同的方法将Z计算为3的幂\n",
    "x = np.random.rand(int(5e7))\n",
    "\n",
    "%timeit np.power(x,3)\n",
    "%timeit x*x*x\n",
    "%timeit np.einsum('i,i,i->i',x,x,x)"
   ]
  },
  {
   "cell_type": "markdown",
   "metadata": {},
   "source": [
    "#### 93. Consider two arrays A and B of shape (8,3) and (2,2). How to find rows of A that contain elements of each row of B regardless of the order of the elements in B? (★★★)"
   ]
  },
  {
   "cell_type": "code",
   "execution_count": null,
   "metadata": {},
   "outputs": [],
   "source": []
  },
  {
   "cell_type": "markdown",
   "metadata": {},
   "source": [
    "#### 94. Considering a 10x3 matrix, extract rows with unequal values (e.g. \\[2,2,3\\]) (★★★)"
   ]
  },
  {
   "cell_type": "code",
   "execution_count": 92,
   "metadata": {},
   "outputs": [
    {
     "name": "stdout",
     "output_type": "stream",
     "text": [
      "[[0 1 0]\n",
      " [0 1 1]\n",
      " [0 0 1]\n",
      " [1 0 0]\n",
      " [0 0 0]\n",
      " [1 0 0]\n",
      " [0 0 0]\n",
      " [0 0 1]\n",
      " [1 0 0]\n",
      " [1 1 1]]\n",
      "[1 1 1 1 0 1 0 1 1 1]\n",
      "[0 0 0 0 0 0 0 0 0 1]\n"
     ]
    },
    {
     "data": {
      "text/plain": [
       "array([[0, 1, 0],\n",
       "       [0, 1, 1],\n",
       "       [0, 0, 1],\n",
       "       [1, 0, 0],\n",
       "       [1, 0, 0],\n",
       "       [0, 0, 1],\n",
       "       [1, 0, 0]])"
      ]
     },
     "execution_count": 92,
     "metadata": {},
     "output_type": "execute_result"
    }
   ],
   "source": [
    "# 考虑10x3矩阵，提取具有不等值的行（例如[2,2,3]）\n",
    "a = np.random.randint(0,2, (10,3))\n",
    "print(a)\n",
    "print(np.max(a, axis=-1))\n",
    "print(np.min(a, axis=-1))\n",
    "\n",
    "a[np.max(a, axis=-1) != np.min(a, axis=-1),:]"
   ]
  },
  {
   "cell_type": "markdown",
   "metadata": {},
   "source": [
    "#### 95. Convert a vector of ints into a matrix binary representation (★★★)"
   ]
  },
  {
   "cell_type": "code",
   "execution_count": 93,
   "metadata": {},
   "outputs": [
    {
     "name": "stdout",
     "output_type": "stream",
     "text": [
      "[[0 0 0 0 0 0 0 0]\n",
      " [0 0 0 0 0 0 0 1]\n",
      " [0 0 0 0 0 0 1 0]\n",
      " [0 0 0 0 0 0 1 1]\n",
      " [0 0 0 0 1 1 1 1]\n",
      " [0 0 0 1 0 0 0 0]\n",
      " [0 0 1 0 0 0 0 0]\n",
      " [0 1 0 0 0 0 0 0]\n",
      " [1 0 0 0 0 0 0 0]]\n"
     ]
    }
   ],
   "source": [
    "# 将int的向量转换为矩阵二进制表示？\n",
    "I = np.array([0, 1, 2, 3, 15, 16, 32, 64, 128])\n",
    "B = ((I.reshape(-1,1) & (2**np.arange(8))) != 0).astype(int)\n",
    "print(B[:,::-1])"
   ]
  },
  {
   "cell_type": "markdown",
   "metadata": {},
   "source": [
    "#### 96. Given a two dimensional array, how to extract unique rows? (★★★)"
   ]
  },
  {
   "cell_type": "code",
   "execution_count": 94,
   "metadata": {},
   "outputs": [
    {
     "name": "stdout",
     "output_type": "stream",
     "text": [
      "[[1 1 0]\n",
      " [1 1 1]\n",
      " [0 1 0]\n",
      " [0 0 0]\n",
      " [0 1 0]\n",
      " [1 0 1]\n",
      " [0 0 0]\n",
      " [0 0 1]\n",
      " [1 1 1]\n",
      " [1 1 0]]\n"
     ]
    },
    {
     "data": {
      "text/plain": [
       "array([[0, 0, 0],\n",
       "       [0, 0, 1],\n",
       "       [0, 1, 0],\n",
       "       [1, 0, 1],\n",
       "       [1, 1, 0],\n",
       "       [1, 1, 1]])"
      ]
     },
     "execution_count": 94,
     "metadata": {},
     "output_type": "execute_result"
    }
   ],
   "source": [
    "# 给定一个二维数组，如何提取唯一的行？\n",
    "# np >= 1.13\n",
    "\n",
    "a = np.random.randint(0,2,(10,3))\n",
    "print(a)\n",
    "np.unique(a, axis=0)"
   ]
  },
  {
   "cell_type": "markdown",
   "metadata": {},
   "source": [
    "#### 97. Considering 2 vectors A & B, write the einsum equivalent of inner, outer, sum, and mul function (★★★)"
   ]
  },
  {
   "cell_type": "code",
   "execution_count": 95,
   "metadata": {},
   "outputs": [
    {
     "data": {
      "text/plain": [
       "(array([[0.07287634, 0.055945  , 0.00756406, 0.02894254, 0.02552834,\n",
       "         0.09218051, 0.02785671, 0.09050343, 0.00198037, 0.05736071],\n",
       "        [0.21329504, 0.16374027, 0.02213856, 0.08470925, 0.07471656,\n",
       "         0.26979465, 0.08153125, 0.26488617, 0.00579617, 0.16788377],\n",
       "        [0.18210982, 0.1398003 , 0.01890175, 0.07232417, 0.06379248,\n",
       "         0.2303488 , 0.06961081, 0.22615797, 0.00494873, 0.143338  ],\n",
       "        [0.55023686, 0.4224005 , 0.0571108 , 0.21852431, 0.19274619,\n",
       "         0.69598883, 0.21032603, 0.68332641, 0.01495238, 0.43308949],\n",
       "        [0.32503046, 0.24951624, 0.03373592, 0.12908452, 0.11385712,\n",
       "         0.41112762, 0.12424171, 0.4036478 , 0.00883252, 0.25583033],\n",
       "        [0.05401351, 0.04146457, 0.00560623, 0.02145125, 0.01892076,\n",
       "         0.06832113, 0.02064647, 0.06707813, 0.00146779, 0.04251385],\n",
       "        [0.51760504, 0.39735002, 0.05372384, 0.20556472, 0.18131537,\n",
       "         0.65471318, 0.19785263, 0.64280171, 0.01406563, 0.4074051 ],\n",
       "        [0.24684667, 0.18949686, 0.02562098, 0.09803414, 0.08646959,\n",
       "         0.31223376, 0.09435624, 0.30655316, 0.00670792, 0.19429214],\n",
       "        [0.50653524, 0.38885207, 0.05257487, 0.20116839, 0.17743765,\n",
       "         0.64071111, 0.19362124, 0.62905438, 0.01376482, 0.3986921 ],\n",
       "        [0.20411513, 0.15669313, 0.02118575, 0.08106349, 0.07150087,\n",
       "         0.25818309, 0.07802226, 0.25348585, 0.00554672, 0.1606583 ]]),\n",
       " array([[0.07287634, 0.055945  , 0.00756406, 0.02894254, 0.02552834,\n",
       "         0.09218051, 0.02785671, 0.09050343, 0.00198037, 0.05736071],\n",
       "        [0.21329504, 0.16374027, 0.02213856, 0.08470925, 0.07471656,\n",
       "         0.26979465, 0.08153125, 0.26488617, 0.00579617, 0.16788377],\n",
       "        [0.18210982, 0.1398003 , 0.01890175, 0.07232417, 0.06379248,\n",
       "         0.2303488 , 0.06961081, 0.22615797, 0.00494873, 0.143338  ],\n",
       "        [0.55023686, 0.4224005 , 0.0571108 , 0.21852431, 0.19274619,\n",
       "         0.69598883, 0.21032603, 0.68332641, 0.01495238, 0.43308949],\n",
       "        [0.32503046, 0.24951624, 0.03373592, 0.12908452, 0.11385712,\n",
       "         0.41112762, 0.12424171, 0.4036478 , 0.00883252, 0.25583033],\n",
       "        [0.05401351, 0.04146457, 0.00560623, 0.02145125, 0.01892076,\n",
       "         0.06832113, 0.02064647, 0.06707813, 0.00146779, 0.04251385],\n",
       "        [0.51760504, 0.39735002, 0.05372384, 0.20556472, 0.18131537,\n",
       "         0.65471318, 0.19785263, 0.64280171, 0.01406563, 0.4074051 ],\n",
       "        [0.24684667, 0.18949686, 0.02562098, 0.09803414, 0.08646959,\n",
       "         0.31223376, 0.09435624, 0.30655316, 0.00670792, 0.19429214],\n",
       "        [0.50653524, 0.38885207, 0.05257487, 0.20116839, 0.17743765,\n",
       "         0.64071111, 0.19362124, 0.62905438, 0.01376482, 0.3986921 ],\n",
       "        [0.20411513, 0.15669313, 0.02118575, 0.08106349, 0.07150087,\n",
       "         0.25818309, 0.07802226, 0.25348585, 0.00554672, 0.1606583 ]]))"
      ]
     },
     "execution_count": 95,
     "metadata": {},
     "output_type": "execute_result"
    }
   ],
   "source": [
    "# 考虑2个向量A和B，写出einsum等效的inner，outer，sum和mul函数\n",
    "a = np.random.uniform(0,1,10)\n",
    "b = np.random.uniform(0,1,10)\n",
    "\n",
    "# np.einsum('i->',a) # np.sum(a)\n",
    "# np.einsum('i,i->i',a,b) # a*b\n",
    "\n",
    "# np.sum(a*b), # np.inner(a,b)内积\n",
    "# np.einsum('i,i', a,b)\n",
    "\n",
    "np.einsum('i,j->ij',a,b), np.outer(a,b)\n"
   ]
  },
  {
   "cell_type": "markdown",
   "metadata": {},
   "source": [
    "#### 98. Considering a path described by two vectors (X,Y), how to sample it using equidistant samples (★★★)?"
   ]
  },
  {
   "cell_type": "code",
   "execution_count": 96,
   "metadata": {},
   "outputs": [],
   "source": [
    "# 考虑两个矢量（X，Y）描述的路径，如何使用等距样本对其进行采样\n"
   ]
  },
  {
   "cell_type": "markdown",
   "metadata": {},
   "source": [
    "#### 99. Given an integer n and a 2D array X, select from X the rows which can be interpreted as draws from a multinomial distribution with n degrees, i.e., the rows which only contain integers and which sum to n. (★★★)"
   ]
  },
  {
   "cell_type": "code",
   "execution_count": 97,
   "metadata": {},
   "outputs": [],
   "source": [
    "# 给定整数n和2D数组X，从X中选择可以解释为具有n度的多项分布的绘制的行，即，仅包含整数并且总和为n的行。"
   ]
  },
  {
   "cell_type": "markdown",
   "metadata": {},
   "source": [
    "#### 100. Compute bootstrapped 95% confidence intervals for the mean of a 1D array X (i.e., resample the elements of an array with replacement N times, compute the mean of each sample, and then compute percentiles over the means). (★★★)"
   ]
  },
  {
   "cell_type": "code",
   "execution_count": 98,
   "metadata": {},
   "outputs": [],
   "source": [
    "# 计算一维阵列X的平均值的自举95％置信区间（即，重新采样具有替换N次的阵列的元素，计算每个样本的平均值，然后计算均值上的百分位数）。"
   ]
  },
  {
   "cell_type": "code",
   "execution_count": null,
   "metadata": {},
   "outputs": [],
   "source": []
  }
 ],
 "metadata": {
  "kernelspec": {
   "display_name": "Python 3",
   "language": "python",
   "name": "python3"
  },
  "language_info": {
   "codemirror_mode": {
    "name": "ipython",
    "version": 3
   },
   "file_extension": ".py",
   "mimetype": "text/x-python",
   "name": "python",
   "nbconvert_exporter": "python",
   "pygments_lexer": "ipython3",
   "version": "3.6.8"
  }
 },
 "nbformat": 4,
 "nbformat_minor": 1
}
